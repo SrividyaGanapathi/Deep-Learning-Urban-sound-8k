{
 "cells": [
  {
   "cell_type": "markdown",
   "metadata": {},
   "source": [
    "# Classifying Urban sounds using Deep Learning\n",
    "\n",
    "## Appendix Helpers"
   ]
  },
  {
   "cell_type": "markdown",
   "metadata": {},
   "source": [
    "### Wav file helper\n",
    "\n",
    "![Wav file](http://soundfile.sapp.org/doc/WaveFormat/wav-sound-format.gif)\n",
    "\n",
    "Image referenced from http://soundfile.sapp.org/doc/WaveFormat/"
   ]
  },
  {
   "cell_type": "code",
   "execution_count": 3,
   "metadata": {},
   "outputs": [
    {
     "name": "stdout",
     "output_type": "stream",
     "text": [
      "(2, 44100, 16)\n"
     ]
    }
   ],
   "source": [
    "from helpers.wavfilehelper import WavFileHelper\n",
    "\n",
    "wavfilehelper = WavFileHelper()\n",
    "data = wavfilehelper.read_file_properties('../UrbanSound Dataset sample/audio/100032-3-0-0.wav')\n",
    "\n",
    "print(data)\n",
    "\n",
    "# "
   ]
  },
  {
   "cell_type": "code",
   "execution_count": null,
   "metadata": {},
   "outputs": [],
   "source": []
  }
 ],
 "metadata": {
  "kernelspec": {
   "display_name": "Python 3",
   "language": "python",
   "name": "python3"
  }
 },
 "nbformat": 4,
 "nbformat_minor": 2
}
