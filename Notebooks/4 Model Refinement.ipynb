{
 "cells": [
  {
   "cell_type": "markdown",
   "metadata": {},
   "source": [
    "# Classifying Urban sounds using Deep Learning\n",
    "\n",
    "## 4 Model Refinement "
   ]
  },
  {
   "cell_type": "markdown",
   "metadata": {},
   "source": [
    "### Load Preprocessed data "
   ]
  },
  {
   "cell_type": "code",
   "execution_count": 1,
   "metadata": {},
   "outputs": [],
   "source": [
    "# retrieve the preprocessed data from previous notebook\n",
    "\n",
    "%store -r x_train \n",
    "%store -r x_test \n",
    "%store -r y_train \n",
    "%store -r y_test \n",
    "%store -r yy \n",
    "%store -r le"
   ]
  },
  {
   "cell_type": "markdown",
   "metadata": {},
   "source": [
    "#### Model refinement\n",
    "\n",
    "In our inital attempt, we were able to achieve a Classification Accuracy score of: \n",
    "\n",
    "* Training data Accuracy:  93.1% \n",
    "* Testing data Accuracy:  88% \n",
    "\n",
    "We will now see if we can improve upon that score using a Convolutional Neural Network (CNN). "
   ]
  },
  {
   "cell_type": "markdown",
   "metadata": {},
   "source": [
    "#### Feature Extraction refinement \n",
    "\n",
    "In the prevous feature extraction stage, the MFCC vectors would vary in size for the different audio files (depending on the samples duration). \n",
    "\n",
    "However, CNNs require a fixed size for all inputs. To overcome this we will zero pad the output vectors to make them all the same size. "
   ]
  },
  {
   "cell_type": "code",
   "execution_count": 2,
   "metadata": {},
   "outputs": [],
   "source": [
    "import numpy as np\n",
    "max_pad_len = 174\n",
    "\n",
    "def extract_features(file_name):\n",
    "   \n",
    "    try:\n",
    "        audio, sample_rate = librosa.load(file_name, res_type='kaiser_fast') \n",
    "        mfccs = librosa.feature.mfcc(y=audio, sr=sample_rate, n_mfcc=40)\n",
    "        pad_width = max_pad_len - mfccs.shape[1]\n",
    "        mfccs = np.pad(mfccs, pad_width=((0, 0), (0, pad_width)), mode='constant')\n",
    "        \n",
    "    except Exception as e:\n",
    "        print(\"Error encountered while parsing file: \", file_name)\n",
    "        return None \n",
    "     \n",
    "    return mfccs"
   ]
  },
  {
   "cell_type": "code",
   "execution_count": 4,
   "metadata": {},
   "outputs": [
    {
     "name": "stderr",
     "output_type": "stream",
     "text": [
      "8732it [05:52, 24.79it/s]"
     ]
    },
    {
     "name": "stdout",
     "output_type": "stream",
     "text": [
      "Finished feature extraction from  8732  files\n"
     ]
    },
    {
     "name": "stderr",
     "output_type": "stream",
     "text": [
      "\n"
     ]
    }
   ],
   "source": [
    "# Load various imports \n",
    "import pandas as pd\n",
    "import os\n",
    "import librosa\n",
    "from tqdm import tqdm\n",
    "\n",
    "# Set the path to the full UrbanSound dataset \n",
    "fulldatasetpath = '../Dataset/UrbanSound8K/audio/'\n",
    "\n",
    "metadata = pd.read_csv('../UrbanSound Dataset sample/metadata/UrbanSound8K.csv')\n",
    "\n",
    "features = []\n",
    "\n",
    "# Iterate through each sound file and extract the features \n",
    "for index, row in tqdm(metadata.iterrows()):\n",
    "    \n",
    "    file_name = os.path.join(os.path.abspath(fulldatasetpath),'fold'+str(row[\"fold\"])+'/',str(row[\"slice_file_name\"]))\n",
    "    \n",
    "    class_label = row[\"class_name\"]\n",
    "    data = extract_features(file_name)\n",
    "    \n",
    "    features.append([data, class_label])\n",
    "\n",
    "# Convert into a Panda dataframe \n",
    "featuresdf = pd.DataFrame(features, columns=['feature','class_label'])\n",
    "\n",
    "print('Finished feature extraction from ', len(featuresdf), ' files') "
   ]
  },
  {
   "cell_type": "code",
   "execution_count": 5,
   "metadata": {},
   "outputs": [
    {
     "name": "stderr",
     "output_type": "stream",
     "text": [
      "Using TensorFlow backend.\n",
      "/Users/bhavya/anaconda3/envs/cpu_env/lib/python3.7/site-packages/tensorflow/python/framework/dtypes.py:526: FutureWarning: Passing (type, 1) or '1type' as a synonym of type is deprecated; in a future version of numpy, it will be understood as (type, (1,)) / '(1,)type'.\n",
      "  _np_qint8 = np.dtype([(\"qint8\", np.int8, 1)])\n",
      "/Users/bhavya/anaconda3/envs/cpu_env/lib/python3.7/site-packages/tensorflow/python/framework/dtypes.py:527: FutureWarning: Passing (type, 1) or '1type' as a synonym of type is deprecated; in a future version of numpy, it will be understood as (type, (1,)) / '(1,)type'.\n",
      "  _np_quint8 = np.dtype([(\"quint8\", np.uint8, 1)])\n",
      "/Users/bhavya/anaconda3/envs/cpu_env/lib/python3.7/site-packages/tensorflow/python/framework/dtypes.py:528: FutureWarning: Passing (type, 1) or '1type' as a synonym of type is deprecated; in a future version of numpy, it will be understood as (type, (1,)) / '(1,)type'.\n",
      "  _np_qint16 = np.dtype([(\"qint16\", np.int16, 1)])\n",
      "/Users/bhavya/anaconda3/envs/cpu_env/lib/python3.7/site-packages/tensorflow/python/framework/dtypes.py:529: FutureWarning: Passing (type, 1) or '1type' as a synonym of type is deprecated; in a future version of numpy, it will be understood as (type, (1,)) / '(1,)type'.\n",
      "  _np_quint16 = np.dtype([(\"quint16\", np.uint16, 1)])\n",
      "/Users/bhavya/anaconda3/envs/cpu_env/lib/python3.7/site-packages/tensorflow/python/framework/dtypes.py:530: FutureWarning: Passing (type, 1) or '1type' as a synonym of type is deprecated; in a future version of numpy, it will be understood as (type, (1,)) / '(1,)type'.\n",
      "  _np_qint32 = np.dtype([(\"qint32\", np.int32, 1)])\n",
      "/Users/bhavya/anaconda3/envs/cpu_env/lib/python3.7/site-packages/tensorflow/python/framework/dtypes.py:535: FutureWarning: Passing (type, 1) or '1type' as a synonym of type is deprecated; in a future version of numpy, it will be understood as (type, (1,)) / '(1,)type'.\n",
      "  np_resource = np.dtype([(\"resource\", np.ubyte, 1)])\n"
     ]
    }
   ],
   "source": [
    "from sklearn.preprocessing import LabelEncoder\n",
    "from keras.utils import to_categorical\n",
    "\n",
    "# Convert features and corresponding classification labels into numpy arrays\n",
    "X = np.array(featuresdf.feature.tolist())\n",
    "y = np.array(featuresdf.class_label.tolist())\n",
    "\n",
    "# Encode the classification labels\n",
    "le = LabelEncoder()\n",
    "yy = to_categorical(le.fit_transform(y)) \n",
    "\n",
    "# split the dataset \n",
    "from sklearn.model_selection import train_test_split \n",
    "\n",
    "x_train, x_test, y_train, y_test = train_test_split(X, yy, test_size=0.2, random_state = 42)"
   ]
  },
  {
   "cell_type": "markdown",
   "metadata": {},
   "source": [
    "### Convolutional Neural Network (CNN) model architecture \n",
    "\n",
    "\n",
    "We will modify our model to be a Convolutional Neural Network (CNN) again using Keras and a Tensorflow backend. \n",
    "\n",
    "Again we will use a `sequential` model, starting with a simple model architecture, consisting of four `Conv2D` convolution layers, with our final output layer being a `dense` layer. \n",
    "\n",
    "The convolution layers are designed for feature detection. It works by sliding a filter window over the input and performing a matrix multiplication and storing the result in a feature map. This operation is known as a convolution. \n",
    "\n",
    "\n",
    "The `filter` parameter specifies the number of nodes in each layer. Each layer will increase in size from 16, 32, 64 to 128, while the `kernel_size` parameter specifies the size of the kernel window which in this case is 2 resulting in a 2x2 filter matrix. \n",
    "\n",
    "The first layer will receive the input shape of (40, 174, 1) where 40 is the number of MFCC's 174 is the number of frames taking padding into account and the 1 signifying that the audio is mono. \n",
    "\n",
    "The activation function we will be using for our convolutional layers is `ReLU` which is the same as our previous model. We will use a smaller `Dropout` value of 20% on our convolutional layers. \n",
    "\n",
    "Each convolutional layer has an associated pooling layer of `MaxPooling2D` type with the final convolutional layer having a `GlobalAveragePooling2D` type. The pooling layer is do reduce the dimensionality of the model (by reducing the parameters and subsquent computation requirements) which serves to shorten the training time and reduce overfitting. The Max Pooling type takes the maximum size for each window and the Global Average Pooling type takes the average which is suitable for feeding into our `dense` output layer.  \n",
    "\n",
    "Our output layer will have 10 nodes (num_labels) which matches the number of possible classifications. The activation is for our output layer is `softmax`. Softmax makes the output sum up to 1 so the output can be interpreted as probabilities. The model will then make its prediction based on which option has the highest probability."
   ]
  },
  {
   "cell_type": "code",
   "execution_count": 6,
   "metadata": {},
   "outputs": [
    {
     "name": "stdout",
     "output_type": "stream",
     "text": [
      "WARNING:tensorflow:From /Users/bhavya/anaconda3/envs/cpu_env/lib/python3.7/site-packages/tensorflow/python/ops/resource_variable_ops.py:435: colocate_with (from tensorflow.python.framework.ops) is deprecated and will be removed in a future version.\n",
      "Instructions for updating:\n",
      "Colocations handled automatically by placer.\n"
     ]
    }
   ],
   "source": [
    "import numpy as np\n",
    "from keras.models import Sequential\n",
    "from keras.layers import Dense, Dropout, Activation, Flatten\n",
    "from keras.layers import Convolution2D, Conv2D, MaxPooling2D, GlobalAveragePooling2D\n",
    "from keras.optimizers import Adam\n",
    "from keras.utils import np_utils\n",
    "from sklearn import metrics \n",
    "\n",
    "num_rows = 40\n",
    "num_columns = 174\n",
    "num_channels = 1\n",
    "\n",
    "x_train = x_train.reshape(x_train.shape[0], num_rows, num_columns, num_channels)\n",
    "x_test = x_test.reshape(x_test.shape[0], num_rows, num_columns, num_channels)\n",
    "\n",
    "num_labels = yy.shape[1]\n",
    "filter_size = 2\n",
    "\n",
    "# Construct model \n",
    "model = Sequential()\n",
    "model.add(Conv2D(filters=16, kernel_size=2, input_shape=(num_rows, num_columns, num_channels), activation='relu'))\n",
    "model.add(MaxPooling2D(pool_size=2))\n",
    "model.add(Dropout(0.2))\n",
    "\n",
    "model.add(Conv2D(filters=32, kernel_size=2, activation='relu'))\n",
    "model.add(MaxPooling2D(pool_size=2))\n",
    "model.add(Dropout(0.2))\n",
    "\n",
    "model.add(Conv2D(filters=64, kernel_size=2, activation='relu'))\n",
    "model.add(MaxPooling2D(pool_size=2))\n",
    "model.add(Dropout(0.2))\n",
    "\n",
    "model.add(Conv2D(filters=128, kernel_size=2, activation='relu'))\n",
    "model.add(MaxPooling2D(pool_size=2))\n",
    "model.add(Dropout(0.2))\n",
    "model.add(GlobalAveragePooling2D())\n",
    "\n",
    "model.add(Dense(num_labels, activation='softmax')) "
   ]
  },
  {
   "cell_type": "markdown",
   "metadata": {},
   "source": [
    "### Compiling the model \n",
    "\n",
    "For compiling our model, we will use the same three parameters as the previous model: "
   ]
  },
  {
   "cell_type": "code",
   "execution_count": 7,
   "metadata": {},
   "outputs": [],
   "source": [
    "# Compile the model\n",
    "model.compile(loss='categorical_crossentropy', metrics=['accuracy'], optimizer='adam') "
   ]
  },
  {
   "cell_type": "code",
   "execution_count": 8,
   "metadata": {},
   "outputs": [
    {
     "name": "stdout",
     "output_type": "stream",
     "text": [
      "Model: \"sequential_1\"\n",
      "_________________________________________________________________\n",
      "Layer (type)                 Output Shape              Param #   \n",
      "=================================================================\n",
      "conv2d_1 (Conv2D)            (None, 39, 173, 16)       80        \n",
      "_________________________________________________________________\n",
      "max_pooling2d_1 (MaxPooling2 (None, 19, 86, 16)        0         \n",
      "_________________________________________________________________\n",
      "dropout_1 (Dropout)          (None, 19, 86, 16)        0         \n",
      "_________________________________________________________________\n",
      "conv2d_2 (Conv2D)            (None, 18, 85, 32)        2080      \n",
      "_________________________________________________________________\n",
      "max_pooling2d_2 (MaxPooling2 (None, 9, 42, 32)         0         \n",
      "_________________________________________________________________\n",
      "dropout_2 (Dropout)          (None, 9, 42, 32)         0         \n",
      "_________________________________________________________________\n",
      "conv2d_3 (Conv2D)            (None, 8, 41, 64)         8256      \n",
      "_________________________________________________________________\n",
      "max_pooling2d_3 (MaxPooling2 (None, 4, 20, 64)         0         \n",
      "_________________________________________________________________\n",
      "dropout_3 (Dropout)          (None, 4, 20, 64)         0         \n",
      "_________________________________________________________________\n",
      "conv2d_4 (Conv2D)            (None, 3, 19, 128)        32896     \n",
      "_________________________________________________________________\n",
      "max_pooling2d_4 (MaxPooling2 (None, 1, 9, 128)         0         \n",
      "_________________________________________________________________\n",
      "dropout_4 (Dropout)          (None, 1, 9, 128)         0         \n",
      "_________________________________________________________________\n",
      "global_average_pooling2d_1 ( (None, 128)               0         \n",
      "_________________________________________________________________\n",
      "dense_1 (Dense)              (None, 10)                1290      \n",
      "=================================================================\n",
      "Total params: 44,602\n",
      "Trainable params: 44,602\n",
      "Non-trainable params: 0\n",
      "_________________________________________________________________\n",
      "1747/1747 [==============================] - 1s 391us/step\n",
      "Pre-training accuracy: 9.6737%\n"
     ]
    }
   ],
   "source": [
    "# Display model architecture summary \n",
    "model.summary()\n",
    "\n",
    "# Calculate pre-training accuracy \n",
    "score = model.evaluate(x_test, y_test, verbose=1)\n",
    "accuracy = 100*score[1]\n",
    "\n",
    "print(\"Pre-training accuracy: %.4f%%\" % accuracy)"
   ]
  },
  {
   "cell_type": "markdown",
   "metadata": {},
   "source": [
    "### Training \n",
    "\n",
    "Here we will train the model. As training a CNN can take a sigificant amount of time, we will start with a low number of epochs and a low batch size. If we can see from the output that the model is converging, we will increase both numbers.  "
   ]
  },
  {
   "cell_type": "code",
   "execution_count": 9,
   "metadata": {},
   "outputs": [
    {
     "name": "stdout",
     "output_type": "stream",
     "text": [
      "WARNING:tensorflow:From /Users/bhavya/anaconda3/envs/cpu_env/lib/python3.7/site-packages/tensorflow/python/ops/math_ops.py:3066: to_int32 (from tensorflow.python.ops.math_ops) is deprecated and will be removed in a future version.\n",
      "Instructions for updating:\n",
      "Use tf.cast instead.\n",
      "Train on 6985 samples, validate on 1747 samples\n",
      "Epoch 1/72\n",
      "6985/6985 [==============================] - 13s 2ms/step - loss: 4.1274 - accuracy: 0.1741 - val_loss: 2.1618 - val_accuracy: 0.2061\n",
      "\n",
      "Epoch 00001: val_loss improved from inf to 2.16176, saving model to saved_models/weights.best.basic_cnn.hdf5\n",
      "Epoch 2/72\n",
      "6985/6985 [==============================] - 12s 2ms/step - loss: 1.9377 - accuracy: 0.3009 - val_loss: 1.8913 - val_accuracy: 0.4133\n",
      "\n",
      "Epoch 00002: val_loss improved from 2.16176 to 1.89133, saving model to saved_models/weights.best.basic_cnn.hdf5\n",
      "Epoch 3/72\n",
      "6985/6985 [==============================] - 12s 2ms/step - loss: 1.6442 - accuracy: 0.4129 - val_loss: 1.6456 - val_accuracy: 0.4843\n",
      "\n",
      "Epoch 00003: val_loss improved from 1.89133 to 1.64556, saving model to saved_models/weights.best.basic_cnn.hdf5\n",
      "Epoch 4/72\n",
      "6985/6985 [==============================] - 12s 2ms/step - loss: 1.4616 - accuracy: 0.4976 - val_loss: 1.4799 - val_accuracy: 0.5283\n",
      "\n",
      "Epoch 00004: val_loss improved from 1.64556 to 1.47985, saving model to saved_models/weights.best.basic_cnn.hdf5\n",
      "Epoch 5/72\n",
      "6985/6985 [==============================] - 12s 2ms/step - loss: 1.3278 - accuracy: 0.5386 - val_loss: 1.3620 - val_accuracy: 0.5570\n",
      "\n",
      "Epoch 00005: val_loss improved from 1.47985 to 1.36199, saving model to saved_models/weights.best.basic_cnn.hdf5\n",
      "Epoch 6/72\n",
      "6985/6985 [==============================] - 13s 2ms/step - loss: 1.2409 - accuracy: 0.5702 - val_loss: 1.2673 - val_accuracy: 0.5799\n",
      "\n",
      "Epoch 00006: val_loss improved from 1.36199 to 1.26733, saving model to saved_models/weights.best.basic_cnn.hdf5\n",
      "Epoch 7/72\n",
      "6985/6985 [==============================] - 13s 2ms/step - loss: 1.1670 - accuracy: 0.5904 - val_loss: 1.2500 - val_accuracy: 0.5827\n",
      "\n",
      "Epoch 00007: val_loss improved from 1.26733 to 1.25000, saving model to saved_models/weights.best.basic_cnn.hdf5\n",
      "Epoch 8/72\n",
      "6985/6985 [==============================] - 13s 2ms/step - loss: 1.1252 - accuracy: 0.6092 - val_loss: 1.1590 - val_accuracy: 0.6113\n",
      "\n",
      "Epoch 00008: val_loss improved from 1.25000 to 1.15899, saving model to saved_models/weights.best.basic_cnn.hdf5\n",
      "Epoch 9/72\n",
      "6985/6985 [==============================] - 13s 2ms/step - loss: 1.0618 - accuracy: 0.6271 - val_loss: 1.1156 - val_accuracy: 0.6291\n",
      "\n",
      "Epoch 00009: val_loss improved from 1.15899 to 1.11558, saving model to saved_models/weights.best.basic_cnn.hdf5\n",
      "Epoch 10/72\n",
      "6985/6985 [==============================] - 13s 2ms/step - loss: 1.0138 - accuracy: 0.6484 - val_loss: 1.0915 - val_accuracy: 0.6279\n",
      "\n",
      "Epoch 00010: val_loss improved from 1.11558 to 1.09149, saving model to saved_models/weights.best.basic_cnn.hdf5\n",
      "Epoch 11/72\n",
      "6985/6985 [==============================] - 13s 2ms/step - loss: 0.9792 - accuracy: 0.6558 - val_loss: 1.0310 - val_accuracy: 0.6508\n",
      "\n",
      "Epoch 00011: val_loss improved from 1.09149 to 1.03100, saving model to saved_models/weights.best.basic_cnn.hdf5\n",
      "Epoch 12/72\n",
      "6985/6985 [==============================] - 13s 2ms/step - loss: 0.9179 - accuracy: 0.6848 - val_loss: 0.9985 - val_accuracy: 0.6686\n",
      "\n",
      "Epoch 00012: val_loss improved from 1.03100 to 0.99850, saving model to saved_models/weights.best.basic_cnn.hdf5\n",
      "Epoch 13/72\n",
      "6985/6985 [==============================] - 14s 2ms/step - loss: 0.9135 - accuracy: 0.6855 - val_loss: 0.9369 - val_accuracy: 0.6886\n",
      "\n",
      "Epoch 00013: val_loss improved from 0.99850 to 0.93691, saving model to saved_models/weights.best.basic_cnn.hdf5\n",
      "Epoch 14/72\n",
      "6985/6985 [==============================] - 13s 2ms/step - loss: 0.8720 - accuracy: 0.7026 - val_loss: 0.9379 - val_accuracy: 0.6749\n",
      "\n",
      "Epoch 00014: val_loss did not improve from 0.93691\n",
      "Epoch 15/72\n",
      "6985/6985 [==============================] - 13s 2ms/step - loss: 0.8330 - accuracy: 0.7088 - val_loss: 0.8549 - val_accuracy: 0.7212\n",
      "\n",
      "Epoch 00015: val_loss improved from 0.93691 to 0.85492, saving model to saved_models/weights.best.basic_cnn.hdf5\n",
      "Epoch 16/72\n",
      "6985/6985 [==============================] - 14s 2ms/step - loss: 0.8078 - accuracy: 0.7274 - val_loss: 0.8305 - val_accuracy: 0.7378\n",
      "\n",
      "Epoch 00016: val_loss improved from 0.85492 to 0.83046, saving model to saved_models/weights.best.basic_cnn.hdf5\n",
      "Epoch 17/72\n",
      "6985/6985 [==============================] - 14s 2ms/step - loss: 0.7538 - accuracy: 0.7422 - val_loss: 0.8183 - val_accuracy: 0.7384\n",
      "\n",
      "Epoch 00017: val_loss improved from 0.83046 to 0.81831, saving model to saved_models/weights.best.basic_cnn.hdf5\n",
      "Epoch 18/72\n",
      "6985/6985 [==============================] - 13s 2ms/step - loss: 0.7441 - accuracy: 0.7406 - val_loss: 0.7591 - val_accuracy: 0.7636\n",
      "\n",
      "Epoch 00018: val_loss improved from 0.81831 to 0.75906, saving model to saved_models/weights.best.basic_cnn.hdf5\n",
      "Epoch 19/72\n",
      "6985/6985 [==============================] - 13s 2ms/step - loss: 0.7114 - accuracy: 0.7608 - val_loss: 0.7739 - val_accuracy: 0.7550\n",
      "\n",
      "Epoch 00019: val_loss did not improve from 0.75906\n",
      "Epoch 20/72\n",
      "6985/6985 [==============================] - 14s 2ms/step - loss: 0.6882 - accuracy: 0.7666 - val_loss: 0.7409 - val_accuracy: 0.7579\n",
      "\n",
      "Epoch 00020: val_loss improved from 0.75906 to 0.74085, saving model to saved_models/weights.best.basic_cnn.hdf5\n",
      "Epoch 21/72\n",
      "6985/6985 [==============================] - 14s 2ms/step - loss: 0.6720 - accuracy: 0.7731 - val_loss: 0.7163 - val_accuracy: 0.7705\n",
      "\n",
      "Epoch 00021: val_loss improved from 0.74085 to 0.71634, saving model to saved_models/weights.best.basic_cnn.hdf5\n",
      "Epoch 22/72\n",
      "6985/6985 [==============================] - 12s 2ms/step - loss: 0.6788 - accuracy: 0.7712 - val_loss: 0.7218 - val_accuracy: 0.7705\n",
      "\n",
      "Epoch 00022: val_loss did not improve from 0.71634\n",
      "Epoch 23/72\n",
      "6985/6985 [==============================] - 12s 2ms/step - loss: 0.6218 - accuracy: 0.7928 - val_loss: 0.6562 - val_accuracy: 0.7979\n",
      "\n",
      "Epoch 00023: val_loss improved from 0.71634 to 0.65615, saving model to saved_models/weights.best.basic_cnn.hdf5\n",
      "Epoch 24/72\n",
      "6985/6985 [==============================] - 13s 2ms/step - loss: 0.5999 - accuracy: 0.8006 - val_loss: 0.6577 - val_accuracy: 0.7813\n",
      "\n",
      "Epoch 00024: val_loss did not improve from 0.65615\n",
      "Epoch 25/72\n",
      "6985/6985 [==============================] - 12s 2ms/step - loss: 0.5858 - accuracy: 0.8006 - val_loss: 0.6183 - val_accuracy: 0.8048\n",
      "\n",
      "Epoch 00025: val_loss improved from 0.65615 to 0.61835, saving model to saved_models/weights.best.basic_cnn.hdf5\n",
      "Epoch 26/72\n",
      "6985/6985 [==============================] - 13s 2ms/step - loss: 0.5685 - accuracy: 0.8054 - val_loss: 0.6465 - val_accuracy: 0.7876\n",
      "\n",
      "Epoch 00026: val_loss did not improve from 0.61835\n",
      "Epoch 27/72\n",
      "6985/6985 [==============================] - 12s 2ms/step - loss: 0.5488 - accuracy: 0.8119 - val_loss: 0.5965 - val_accuracy: 0.8060\n",
      "\n",
      "Epoch 00027: val_loss improved from 0.61835 to 0.59651, saving model to saved_models/weights.best.basic_cnn.hdf5\n",
      "Epoch 28/72\n",
      "6985/6985 [==============================] - 12s 2ms/step - loss: 0.5461 - accuracy: 0.8129 - val_loss: 0.5807 - val_accuracy: 0.8191\n",
      "\n",
      "Epoch 00028: val_loss improved from 0.59651 to 0.58071, saving model to saved_models/weights.best.basic_cnn.hdf5\n",
      "Epoch 29/72\n",
      "6985/6985 [==============================] - 12s 2ms/step - loss: 0.5305 - accuracy: 0.8166 - val_loss: 0.5653 - val_accuracy: 0.8254\n",
      "\n",
      "Epoch 00029: val_loss improved from 0.58071 to 0.56533, saving model to saved_models/weights.best.basic_cnn.hdf5\n",
      "Epoch 30/72\n",
      "6985/6985 [==============================] - 12s 2ms/step - loss: 0.5166 - accuracy: 0.8253 - val_loss: 0.5880 - val_accuracy: 0.8037\n",
      "\n",
      "Epoch 00030: val_loss did not improve from 0.56533\n",
      "Epoch 31/72\n",
      "6985/6985 [==============================] - 13s 2ms/step - loss: 0.5273 - accuracy: 0.8165 - val_loss: 0.5950 - val_accuracy: 0.8151\n",
      "\n",
      "Epoch 00031: val_loss did not improve from 0.56533\n",
      "Epoch 32/72\n",
      "6985/6985 [==============================] - 12s 2ms/step - loss: 0.4849 - accuracy: 0.8387 - val_loss: 0.5384 - val_accuracy: 0.8288\n",
      "\n",
      "Epoch 00032: val_loss improved from 0.56533 to 0.53844, saving model to saved_models/weights.best.basic_cnn.hdf5\n",
      "Epoch 33/72\n"
     ]
    },
    {
     "name": "stdout",
     "output_type": "stream",
     "text": [
      "6985/6985 [==============================] - 12s 2ms/step - loss: 0.4744 - accuracy: 0.8408 - val_loss: 0.5285 - val_accuracy: 0.8363\n",
      "\n",
      "Epoch 00033: val_loss improved from 0.53844 to 0.52855, saving model to saved_models/weights.best.basic_cnn.hdf5\n",
      "Epoch 34/72\n",
      "6985/6985 [==============================] - 12s 2ms/step - loss: 0.4715 - accuracy: 0.8389 - val_loss: 0.5017 - val_accuracy: 0.8426\n",
      "\n",
      "Epoch 00034: val_loss improved from 0.52855 to 0.50166, saving model to saved_models/weights.best.basic_cnn.hdf5\n",
      "Epoch 35/72\n",
      "6985/6985 [==============================] - 12s 2ms/step - loss: 0.4632 - accuracy: 0.8414 - val_loss: 0.5031 - val_accuracy: 0.8414\n",
      "\n",
      "Epoch 00035: val_loss did not improve from 0.50166\n",
      "Epoch 36/72\n",
      "6985/6985 [==============================] - 12s 2ms/step - loss: 0.4608 - accuracy: 0.8429 - val_loss: 0.4956 - val_accuracy: 0.8443\n",
      "\n",
      "Epoch 00036: val_loss improved from 0.50166 to 0.49561, saving model to saved_models/weights.best.basic_cnn.hdf5\n",
      "Epoch 37/72\n",
      "6985/6985 [==============================] - 12s 2ms/step - loss: 0.4380 - accuracy: 0.8518 - val_loss: 0.5018 - val_accuracy: 0.8397\n",
      "\n",
      "Epoch 00037: val_loss did not improve from 0.49561\n",
      "Epoch 38/72\n",
      "6985/6985 [==============================] - 12s 2ms/step - loss: 0.4251 - accuracy: 0.8545 - val_loss: 0.4865 - val_accuracy: 0.8374\n",
      "\n",
      "Epoch 00038: val_loss improved from 0.49561 to 0.48647, saving model to saved_models/weights.best.basic_cnn.hdf5\n",
      "Epoch 39/72\n",
      "6985/6985 [==============================] - 13s 2ms/step - loss: 0.4133 - accuracy: 0.8591 - val_loss: 0.4482 - val_accuracy: 0.8706\n",
      "\n",
      "Epoch 00039: val_loss improved from 0.48647 to 0.44824, saving model to saved_models/weights.best.basic_cnn.hdf5\n",
      "Epoch 40/72\n",
      "6985/6985 [==============================] - 28s 4ms/step - loss: 0.3929 - accuracy: 0.8679 - val_loss: 0.4390 - val_accuracy: 0.8626\n",
      "\n",
      "Epoch 00040: val_loss improved from 0.44824 to 0.43901, saving model to saved_models/weights.best.basic_cnn.hdf5\n",
      "Epoch 41/72\n",
      "6985/6985 [==============================] - 15s 2ms/step - loss: 0.3913 - accuracy: 0.8631 - val_loss: 0.4391 - val_accuracy: 0.8655\n",
      "\n",
      "Epoch 00041: val_loss did not improve from 0.43901\n",
      "Epoch 42/72\n",
      "6985/6985 [==============================] - 13s 2ms/step - loss: 0.3734 - accuracy: 0.8770 - val_loss: 0.4622 - val_accuracy: 0.8477\n",
      "\n",
      "Epoch 00042: val_loss did not improve from 0.43901\n",
      "Epoch 43/72\n",
      "6985/6985 [==============================] - 13s 2ms/step - loss: 0.3917 - accuracy: 0.8663 - val_loss: 0.4323 - val_accuracy: 0.8620\n",
      "\n",
      "Epoch 00043: val_loss improved from 0.43901 to 0.43228, saving model to saved_models/weights.best.basic_cnn.hdf5\n",
      "Epoch 44/72\n",
      "6985/6985 [==============================] - 13s 2ms/step - loss: 0.3672 - accuracy: 0.8785 - val_loss: 0.4141 - val_accuracy: 0.8620\n",
      "\n",
      "Epoch 00044: val_loss improved from 0.43228 to 0.41407, saving model to saved_models/weights.best.basic_cnn.hdf5\n",
      "Epoch 45/72\n",
      "6985/6985 [==============================] - 13s 2ms/step - loss: 0.3752 - accuracy: 0.8759 - val_loss: 0.4140 - val_accuracy: 0.8764\n",
      "\n",
      "Epoch 00045: val_loss improved from 0.41407 to 0.41401, saving model to saved_models/weights.best.basic_cnn.hdf5\n",
      "Epoch 46/72\n",
      "6985/6985 [==============================] - 13s 2ms/step - loss: 0.3521 - accuracy: 0.8763 - val_loss: 0.4190 - val_accuracy: 0.8689\n",
      "\n",
      "Epoch 00046: val_loss did not improve from 0.41401\n",
      "Epoch 47/72\n",
      "6985/6985 [==============================] - 13s 2ms/step - loss: 0.3564 - accuracy: 0.8753 - val_loss: 0.4358 - val_accuracy: 0.8563\n",
      "\n",
      "Epoch 00047: val_loss did not improve from 0.41401\n",
      "Epoch 48/72\n",
      "6985/6985 [==============================] - 13s 2ms/step - loss: 0.3384 - accuracy: 0.8806 - val_loss: 0.3921 - val_accuracy: 0.8798\n",
      "\n",
      "Epoch 00048: val_loss improved from 0.41401 to 0.39213, saving model to saved_models/weights.best.basic_cnn.hdf5\n",
      "Epoch 49/72\n",
      "6985/6985 [==============================] - 13s 2ms/step - loss: 0.3288 - accuracy: 0.8870 - val_loss: 0.4260 - val_accuracy: 0.8563\n",
      "\n",
      "Epoch 00049: val_loss did not improve from 0.39213\n",
      "Epoch 50/72\n",
      "6985/6985 [==============================] - 13s 2ms/step - loss: 0.3208 - accuracy: 0.8906 - val_loss: 0.4146 - val_accuracy: 0.8666\n",
      "\n",
      "Epoch 00050: val_loss did not improve from 0.39213\n",
      "Epoch 51/72\n",
      "6985/6985 [==============================] - 13s 2ms/step - loss: 0.3210 - accuracy: 0.8895 - val_loss: 0.4144 - val_accuracy: 0.8701\n",
      "\n",
      "Epoch 00051: val_loss did not improve from 0.39213\n",
      "Epoch 52/72\n",
      "6985/6985 [==============================] - 13s 2ms/step - loss: 0.3204 - accuracy: 0.8883 - val_loss: 0.4055 - val_accuracy: 0.8683\n",
      "\n",
      "Epoch 00052: val_loss did not improve from 0.39213\n",
      "Epoch 53/72\n",
      "6985/6985 [==============================] - 243s 35ms/step - loss: 0.3124 - accuracy: 0.8892 - val_loss: 0.3850 - val_accuracy: 0.8775\n",
      "\n",
      "Epoch 00053: val_loss improved from 0.39213 to 0.38500, saving model to saved_models/weights.best.basic_cnn.hdf5\n",
      "Epoch 54/72\n",
      "6985/6985 [==============================] - 14s 2ms/step - loss: 0.2943 - accuracy: 0.8996 - val_loss: 0.3630 - val_accuracy: 0.8878\n",
      "\n",
      "Epoch 00054: val_loss improved from 0.38500 to 0.36299, saving model to saved_models/weights.best.basic_cnn.hdf5\n",
      "Epoch 55/72\n",
      "6985/6985 [==============================] - 13s 2ms/step - loss: 0.2975 - accuracy: 0.8974 - val_loss: 0.3676 - val_accuracy: 0.8821\n",
      "\n",
      "Epoch 00055: val_loss did not improve from 0.36299\n",
      "Epoch 56/72\n",
      "6985/6985 [==============================] - 12s 2ms/step - loss: 0.3112 - accuracy: 0.8878 - val_loss: 0.4017 - val_accuracy: 0.8775\n",
      "\n",
      "Epoch 00056: val_loss did not improve from 0.36299\n",
      "Epoch 57/72\n",
      "6985/6985 [==============================] - 13s 2ms/step - loss: 0.2972 - accuracy: 0.8966 - val_loss: 0.3591 - val_accuracy: 0.8867\n",
      "\n",
      "Epoch 00057: val_loss improved from 0.36299 to 0.35908, saving model to saved_models/weights.best.basic_cnn.hdf5\n",
      "Epoch 58/72\n",
      "6985/6985 [==============================] - 13s 2ms/step - loss: 0.2755 - accuracy: 0.9034 - val_loss: 0.3480 - val_accuracy: 0.8901\n",
      "\n",
      "Epoch 00058: val_loss improved from 0.35908 to 0.34805, saving model to saved_models/weights.best.basic_cnn.hdf5\n",
      "Epoch 59/72\n",
      "6985/6985 [==============================] - 13s 2ms/step - loss: 0.2817 - accuracy: 0.9012 - val_loss: 0.3606 - val_accuracy: 0.8792\n",
      "\n",
      "Epoch 00059: val_loss did not improve from 0.34805\n",
      "Epoch 60/72\n",
      "6985/6985 [==============================] - 13s 2ms/step - loss: 0.2639 - accuracy: 0.9037 - val_loss: 0.3989 - val_accuracy: 0.8746\n",
      "\n",
      "Epoch 00060: val_loss did not improve from 0.34805\n",
      "Epoch 61/72\n",
      "6985/6985 [==============================] - 14s 2ms/step - loss: 0.2794 - accuracy: 0.9045 - val_loss: 0.3784 - val_accuracy: 0.8752\n",
      "\n",
      "Epoch 00061: val_loss did not improve from 0.34805\n",
      "Epoch 62/72\n",
      "6985/6985 [==============================] - 14s 2ms/step - loss: 0.2754 - accuracy: 0.9055 - val_loss: 0.3494 - val_accuracy: 0.8924\n",
      "\n",
      "Epoch 00062: val_loss did not improve from 0.34805\n",
      "Epoch 63/72\n",
      "6985/6985 [==============================] - 13s 2ms/step - loss: 0.2543 - accuracy: 0.9165 - val_loss: 0.3805 - val_accuracy: 0.8792\n",
      "\n",
      "Epoch 00063: val_loss did not improve from 0.34805\n",
      "Epoch 64/72\n",
      "6985/6985 [==============================] - 13s 2ms/step - loss: 0.2497 - accuracy: 0.9147 - val_loss: 0.3671 - val_accuracy: 0.8827\n",
      "\n",
      "Epoch 00064: val_loss did not improve from 0.34805\n",
      "Epoch 65/72\n",
      "6985/6985 [==============================] - 13s 2ms/step - loss: 0.2420 - accuracy: 0.9142 - val_loss: 0.3485 - val_accuracy: 0.8884\n",
      "\n",
      "Epoch 00065: val_loss did not improve from 0.34805\n",
      "Epoch 66/72\n",
      "6985/6985 [==============================] - 14s 2ms/step - loss: 0.2562 - accuracy: 0.9115 - val_loss: 0.3325 - val_accuracy: 0.8930\n",
      "\n",
      "Epoch 00066: val_loss improved from 0.34805 to 0.33249, saving model to saved_models/weights.best.basic_cnn.hdf5\n",
      "Epoch 67/72\n",
      "6985/6985 [==============================] - 13s 2ms/step - loss: 0.2411 - accuracy: 0.9177 - val_loss: 0.3374 - val_accuracy: 0.8958\n",
      "\n",
      "Epoch 00067: val_loss did not improve from 0.33249\n",
      "Epoch 68/72\n",
      "6985/6985 [==============================] - 13s 2ms/step - loss: 0.2413 - accuracy: 0.9162 - val_loss: 0.3812 - val_accuracy: 0.8792\n",
      "\n",
      "Epoch 00068: val_loss did not improve from 0.33249\n",
      "Epoch 69/72\n",
      "6985/6985 [==============================] - 14s 2ms/step - loss: 0.2433 - accuracy: 0.9164 - val_loss: 0.3223 - val_accuracy: 0.9004\n"
     ]
    },
    {
     "name": "stdout",
     "output_type": "stream",
     "text": [
      "\n",
      "Epoch 00069: val_loss improved from 0.33249 to 0.32230, saving model to saved_models/weights.best.basic_cnn.hdf5\n",
      "Epoch 70/72\n",
      "6985/6985 [==============================] - 13s 2ms/step - loss: 0.2328 - accuracy: 0.9181 - val_loss: 0.3329 - val_accuracy: 0.8930\n",
      "\n",
      "Epoch 00070: val_loss did not improve from 0.32230\n",
      "Epoch 71/72\n",
      "6985/6985 [==============================] - 13s 2ms/step - loss: 0.2323 - accuracy: 0.9205 - val_loss: 0.3332 - val_accuracy: 0.8964\n",
      "\n",
      "Epoch 00071: val_loss did not improve from 0.32230\n",
      "Epoch 72/72\n",
      "6985/6985 [==============================] - 14s 2ms/step - loss: 0.2220 - accuracy: 0.9240 - val_loss: 0.3152 - val_accuracy: 0.8987\n",
      "\n",
      "Epoch 00072: val_loss improved from 0.32230 to 0.31517, saving model to saved_models/weights.best.basic_cnn.hdf5\n",
      "Training completed in time:  0:19:36.063460\n"
     ]
    }
   ],
   "source": [
    "from keras.callbacks import ModelCheckpoint \n",
    "from datetime import datetime \n",
    "\n",
    "#num_epochs = 12\n",
    "#num_batch_size = 128\n",
    "\n",
    "num_epochs = 72\n",
    "num_batch_size = 256\n",
    "\n",
    "checkpointer = ModelCheckpoint(filepath='saved_models/weights.best.basic_cnn.hdf5', \n",
    "                               verbose=1, save_best_only=True)\n",
    "start = datetime.now()\n",
    "\n",
    "model.fit(x_train, y_train, batch_size=num_batch_size, epochs=num_epochs, validation_data=(x_test, y_test), callbacks=[checkpointer], verbose=1)\n",
    "\n",
    "\n",
    "duration = datetime.now() - start\n",
    "print(\"Training completed in time: \", duration)"
   ]
  },
  {
   "cell_type": "markdown",
   "metadata": {},
   "source": [
    "### Test the model \n",
    "\n",
    "Here we will review the accuracy of the model on both the training and test data sets. "
   ]
  },
  {
   "cell_type": "code",
   "execution_count": 10,
   "metadata": {},
   "outputs": [
    {
     "name": "stdout",
     "output_type": "stream",
     "text": [
      "Training Accuracy:  0.9537580609321594\n",
      "Testing Accuracy:  0.8986834287643433\n"
     ]
    }
   ],
   "source": [
    "# Evaluating the model on the training and testing set\n",
    "score = model.evaluate(x_train, y_train, verbose=0)\n",
    "print(\"Training Accuracy: \", score[1])\n",
    "\n",
    "score = model.evaluate(x_test, y_test, verbose=0)\n",
    "print(\"Testing Accuracy: \", score[1])"
   ]
  },
  {
   "cell_type": "markdown",
   "metadata": {},
   "source": [
    "The Training and Testing accuracy scores are both high and an increase on our initial model. Training accuracy has increased by ~6% and Testing accuracy has increased by ~4%. \n",
    "\n",
    "There is a marginal increase in the difference between the Training and Test scores (~6% compared to ~5% previously) though the difference remains low so the model has not suffered from overfitting. "
   ]
  },
  {
   "cell_type": "markdown",
   "metadata": {},
   "source": [
    "### Predictions  \n",
    "\n",
    "Here we will modify our previous method for testing the models predictions on a specified audio .wav file. "
   ]
  },
  {
   "cell_type": "code",
   "execution_count": 11,
   "metadata": {},
   "outputs": [],
   "source": [
    "def print_prediction(file_name):\n",
    "    prediction_feature = extract_features(file_name) \n",
    "    prediction_feature = prediction_feature.reshape(1, num_rows, num_columns, num_channels)\n",
    "\n",
    "    predicted_vector = model.predict_classes(prediction_feature)\n",
    "    predicted_class = le.inverse_transform(predicted_vector) \n",
    "    print(\"The predicted class is:\", predicted_class[0], '\\n') \n",
    "\n",
    "    predicted_proba_vector = model.predict_proba(prediction_feature) \n",
    "    predicted_proba = predicted_proba_vector[0]\n",
    "    for i in range(len(predicted_proba)): \n",
    "        category = le.inverse_transform(np.array([i]))\n",
    "        print(category[0], \"\\t\\t : \", format(predicted_proba[i], '.32f') )"
   ]
  },
  {
   "cell_type": "markdown",
   "metadata": {},
   "source": [
    "### Validation \n",
    "\n",
    "#### Test with sample data \n",
    "\n",
    "As before we will verify the predictions using a subsection of the sample audio files we explored in the first notebook. We expect the bulk of these to be classified correctly. "
   ]
  },
  {
   "cell_type": "code",
   "execution_count": 12,
   "metadata": {},
   "outputs": [
    {
     "name": "stdout",
     "output_type": "stream",
     "text": [
      "The predicted class is: air_conditioner \n",
      "\n",
      "air_conditioner \t\t :  0.99963462352752685546875000000000\n",
      "car_horn \t\t :  0.00000066457164393796119838953018\n",
      "children_playing \t\t :  0.00007972981984494253993034362793\n",
      "dog_bark \t\t :  0.00000393079153582220897078514099\n",
      "drilling \t\t :  0.00009960658644558861851692199707\n",
      "engine_idling \t\t :  0.00002108380795107223093509674072\n",
      "gun_shot \t\t :  0.00013130753359291702508926391602\n",
      "jackhammer \t\t :  0.00001495476590207545086741447449\n",
      "siren \t\t :  0.00000015865006730564346071332693\n",
      "street_music \t\t :  0.00001384513780067209154367446899\n"
     ]
    }
   ],
   "source": [
    "# Class: Air Conditioner\n",
    "\n",
    "filename = '../UrbanSound Dataset sample/audio/100852-0-0-0.wav' \n",
    "print_prediction(filename) "
   ]
  },
  {
   "cell_type": "code",
   "execution_count": 13,
   "metadata": {
    "scrolled": true
   },
   "outputs": [
    {
     "name": "stdout",
     "output_type": "stream",
     "text": [
      "The predicted class is: drilling \n",
      "\n",
      "air_conditioner \t\t :  0.00004755285772262141108512878418\n",
      "car_horn \t\t :  0.00135083636268973350524902343750\n",
      "children_playing \t\t :  0.00000901891871762927621603012085\n",
      "dog_bark \t\t :  0.00000376006028091069310903549194\n",
      "drilling \t\t :  0.98178678750991821289062500000000\n",
      "engine_idling \t\t :  0.00000529857197761884890496730804\n",
      "gun_shot \t\t :  0.00000059720520084738382138311863\n",
      "jackhammer \t\t :  0.00032964342972263693809509277344\n",
      "siren \t\t :  0.00000052914543857696116901934147\n",
      "street_music \t\t :  0.01646599918603897094726562500000\n"
     ]
    }
   ],
   "source": [
    "# Class: Drilling\n",
    "\n",
    "filename = '../UrbanSound Dataset sample/audio/103199-4-0-0.wav'\n",
    "print_prediction(filename) "
   ]
  },
  {
   "cell_type": "code",
   "execution_count": 14,
   "metadata": {},
   "outputs": [
    {
     "name": "stdout",
     "output_type": "stream",
     "text": [
      "The predicted class is: street_music \n",
      "\n",
      "air_conditioner \t\t :  0.00019873173732776194810867309570\n",
      "car_horn \t\t :  0.00022817279386799782514572143555\n",
      "children_playing \t\t :  0.01703303307294845581054687500000\n",
      "dog_bark \t\t :  0.00011764083319576457142829895020\n",
      "drilling \t\t :  0.00000011890290352312149479985237\n",
      "engine_idling \t\t :  0.00000590954186918679624795913696\n",
      "gun_shot \t\t :  0.00000000905062158551572792930529\n",
      "jackhammer \t\t :  0.00000007629972742506652139127254\n",
      "siren \t\t :  0.00071084155933931469917297363281\n",
      "street_music \t\t :  0.98170542716979980468750000000000\n"
     ]
    }
   ],
   "source": [
    "# Class: Street music \n",
    "\n",
    "filename = '../UrbanSound Dataset sample/audio/101848-9-0-0.wav'\n",
    "print_prediction(filename) "
   ]
  },
  {
   "cell_type": "code",
   "execution_count": 15,
   "metadata": {},
   "outputs": [
    {
     "name": "stdout",
     "output_type": "stream",
     "text": [
      "The predicted class is: car_horn \n",
      "\n",
      "air_conditioner \t\t :  0.00087277742568403482437133789062\n",
      "car_horn \t\t :  0.26948341727256774902343750000000\n",
      "children_playing \t\t :  0.00407882407307624816894531250000\n",
      "dog_bark \t\t :  0.15276922285556793212890625000000\n",
      "drilling \t\t :  0.18205101788043975830078125000000\n",
      "engine_idling \t\t :  0.03219686076045036315917968750000\n",
      "gun_shot \t\t :  0.08857216686010360717773437500000\n",
      "jackhammer \t\t :  0.24637129902839660644531250000000\n",
      "siren \t\t :  0.02285685390233993530273437500000\n",
      "street_music \t\t :  0.00074759544804692268371582031250\n"
     ]
    }
   ],
   "source": [
    "# Class: Car Horn \n",
    "\n",
    "filename = '../UrbanSound Dataset sample/audio/100648-1-0-0.wav'\n",
    "print_prediction(filename) "
   ]
  },
  {
   "cell_type": "markdown",
   "metadata": {},
   "source": [
    "#### Observations \n",
    "\n",
    "We can see that the model performs well. \n",
    "\n",
    "Interestingly, car horn was again incorrectly classifed but this time as drilling - though the per class confidence shows it was a close decision between car horn with 26% confidence and drilling at 34% confidence.  "
   ]
  },
  {
   "cell_type": "markdown",
   "metadata": {},
   "source": [
    "### Other audio\n",
    "\n",
    "Again we will further validate our model using a sample of various copyright free sounds that we not part of either our test or training data. "
   ]
  },
  {
   "cell_type": "code",
   "execution_count": 16,
   "metadata": {},
   "outputs": [
    {
     "name": "stdout",
     "output_type": "stream",
     "text": [
      "The predicted class is: dog_bark \n",
      "\n",
      "air_conditioner \t\t :  0.00026926782447844743728637695312\n",
      "car_horn \t\t :  0.01605159230530261993408203125000\n",
      "children_playing \t\t :  0.00112424034159630537033081054688\n",
      "dog_bark \t\t :  0.93480676412582397460937500000000\n",
      "drilling \t\t :  0.01309823524206876754760742187500\n",
      "engine_idling \t\t :  0.00021353414922486990690231323242\n",
      "gun_shot \t\t :  0.03244085237383842468261718750000\n",
      "jackhammer \t\t :  0.00002938325633294880390167236328\n",
      "siren \t\t :  0.00169011438265442848205566406250\n",
      "street_music \t\t :  0.00027596080326475203037261962891\n"
     ]
    }
   ],
   "source": [
    "filename = '../Evaluation audio/dog_bark_1.wav'\n",
    "print_prediction(filename) "
   ]
  },
  {
   "cell_type": "code",
   "execution_count": 17,
   "metadata": {
    "scrolled": true
   },
   "outputs": [
    {
     "name": "stdout",
     "output_type": "stream",
     "text": [
      "The predicted class is: jackhammer \n",
      "\n",
      "air_conditioner \t\t :  0.00238400720991194248199462890625\n",
      "car_horn \t\t :  0.00000001842655095174450252670795\n",
      "children_playing \t\t :  0.00000596138988839811645448207855\n",
      "dog_bark \t\t :  0.00000344101340488123241811990738\n",
      "drilling \t\t :  0.00001866246384452097117900848389\n",
      "engine_idling \t\t :  0.00002697419040487147867679595947\n",
      "gun_shot \t\t :  0.00001019490991893690079450607300\n",
      "jackhammer \t\t :  0.99754613637924194335937500000000\n",
      "siren \t\t :  0.00000363874869435676373541355133\n",
      "street_music \t\t :  0.00000101370062566275009885430336\n"
     ]
    }
   ],
   "source": [
    "filename = '../Evaluation audio/drilling_1.wav'\n",
    "\n",
    "print_prediction(filename) "
   ]
  },
  {
   "cell_type": "code",
   "execution_count": 18,
   "metadata": {},
   "outputs": [
    {
     "name": "stdout",
     "output_type": "stream",
     "text": [
      "The predicted class is: gun_shot \n",
      "\n",
      "air_conditioner \t\t :  0.00002443616358505096286535263062\n",
      "car_horn \t\t :  0.00000623834739599260501563549042\n",
      "children_playing \t\t :  0.00159835012163966894149780273438\n",
      "dog_bark \t\t :  0.00703781982883810997009277343750\n",
      "drilling \t\t :  0.09889528900384902954101562500000\n",
      "engine_idling \t\t :  0.00002655973185028415173292160034\n",
      "gun_shot \t\t :  0.89151883125305175781250000000000\n",
      "jackhammer \t\t :  0.00000121413609122100751847028732\n",
      "siren \t\t :  0.00016437431622762233018875122070\n",
      "street_music \t\t :  0.00072692235698923468589782714844\n"
     ]
    }
   ],
   "source": [
    "filename = '../Evaluation audio/gun_shot_1.wav'\n",
    "\n",
    "print_prediction(filename) "
   ]
  },
  {
   "cell_type": "markdown",
   "metadata": {},
   "source": [
    "#### Observations \n",
    "\n",
    "The performance of our final model is very good and has generalised well, seeming to predict well when tested against new audio data. "
   ]
  },
  {
   "cell_type": "code",
   "execution_count": null,
   "metadata": {},
   "outputs": [],
   "source": []
  }
 ],
 "metadata": {
  "kernelspec": {
   "display_name": "Python 3",
   "language": "python",
   "name": "python3"
  },
  "language_info": {
   "codemirror_mode": {
    "name": "ipython",
    "version": 3
   },
   "file_extension": ".py",
   "mimetype": "text/x-python",
   "name": "python",
   "nbconvert_exporter": "python",
   "pygments_lexer": "ipython3",
   "version": "3.7.4"
  }
 },
 "nbformat": 4,
 "nbformat_minor": 2
}
