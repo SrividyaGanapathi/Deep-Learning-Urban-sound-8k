{
 "cells": [
  {
   "cell_type": "markdown",
   "metadata": {},
   "source": [
    "# Classifying Urban sounds using Deep Learning\n",
    "\n",
    "## 3 Model Training and Evaluation "
   ]
  },
  {
   "cell_type": "markdown",
   "metadata": {},
   "source": [
    "### Load Preprocessed data "
   ]
  },
  {
   "cell_type": "code",
   "execution_count": 1,
   "metadata": {},
   "outputs": [],
   "source": [
    "# retrieve the preprocessed data from previous notebook\n",
    "\n",
    "%store -r x_train \n",
    "%store -r x_test \n",
    "%store -r y_train \n",
    "%store -r y_test \n",
    "%store -r yy \n",
    "%store -r le"
   ]
  },
  {
   "cell_type": "markdown",
   "metadata": {},
   "source": [
    "### Initial model architecture - MLP\n",
    "\n",
    "We will start with constructing a Multilayer Perceptron (MLP) Neural Network using Keras and a Tensorflow backend. \n",
    "\n",
    "Starting with a `sequential` model so we can build the model layer by layer. \n",
    "\n",
    "We will begin with a simple model architecture, consisting of three layers, an input layer, a hidden layer and an output layer. All three layers will be of the `dense` layer type which is a standard layer type that is used in many cases for neural networks. \n",
    "\n",
    "The first layer will receive the input shape. As each sample contains 40 MFCCs (or columns) we have a shape of (1x40) this means we will start with an input shape of 40. \n",
    "\n",
    "The first two layers will have 256 nodes. The activation function we will be using for our first 2 layers is the `ReLU`, or `Rectified Linear Activation`. This activation function has been proven to work well in neural networks.\n",
    "\n",
    "We will also apply a `Dropout` value of 50% on our first two layers. This will randomly exclude nodes from each update cycle which in turn results in a network that is capable of better generalisation and is less likely to overfit the training data.\n",
    "\n",
    "Our output layer will have 10 nodes (num_labels) which matches the number of possible classifications. The activation is for our output layer is `softmax`. Softmax makes the output sum up to 1 so the output can be interpreted as probabilities. The model will then make its prediction based on which option has the highest probability."
   ]
  },
  {
   "cell_type": "code",
   "execution_count": 2,
   "metadata": {},
   "outputs": [
    {
     "name": "stderr",
     "output_type": "stream",
     "text": [
      "Using TensorFlow backend.\n",
      "/Users/bhavya/anaconda3/envs/cpu_env/lib/python3.7/site-packages/tensorflow/python/framework/dtypes.py:526: FutureWarning: Passing (type, 1) or '1type' as a synonym of type is deprecated; in a future version of numpy, it will be understood as (type, (1,)) / '(1,)type'.\n",
      "  _np_qint8 = np.dtype([(\"qint8\", np.int8, 1)])\n",
      "/Users/bhavya/anaconda3/envs/cpu_env/lib/python3.7/site-packages/tensorflow/python/framework/dtypes.py:527: FutureWarning: Passing (type, 1) or '1type' as a synonym of type is deprecated; in a future version of numpy, it will be understood as (type, (1,)) / '(1,)type'.\n",
      "  _np_quint8 = np.dtype([(\"quint8\", np.uint8, 1)])\n",
      "/Users/bhavya/anaconda3/envs/cpu_env/lib/python3.7/site-packages/tensorflow/python/framework/dtypes.py:528: FutureWarning: Passing (type, 1) or '1type' as a synonym of type is deprecated; in a future version of numpy, it will be understood as (type, (1,)) / '(1,)type'.\n",
      "  _np_qint16 = np.dtype([(\"qint16\", np.int16, 1)])\n",
      "/Users/bhavya/anaconda3/envs/cpu_env/lib/python3.7/site-packages/tensorflow/python/framework/dtypes.py:529: FutureWarning: Passing (type, 1) or '1type' as a synonym of type is deprecated; in a future version of numpy, it will be understood as (type, (1,)) / '(1,)type'.\n",
      "  _np_quint16 = np.dtype([(\"quint16\", np.uint16, 1)])\n",
      "/Users/bhavya/anaconda3/envs/cpu_env/lib/python3.7/site-packages/tensorflow/python/framework/dtypes.py:530: FutureWarning: Passing (type, 1) or '1type' as a synonym of type is deprecated; in a future version of numpy, it will be understood as (type, (1,)) / '(1,)type'.\n",
      "  _np_qint32 = np.dtype([(\"qint32\", np.int32, 1)])\n",
      "/Users/bhavya/anaconda3/envs/cpu_env/lib/python3.7/site-packages/tensorflow/python/framework/dtypes.py:535: FutureWarning: Passing (type, 1) or '1type' as a synonym of type is deprecated; in a future version of numpy, it will be understood as (type, (1,)) / '(1,)type'.\n",
      "  np_resource = np.dtype([(\"resource\", np.ubyte, 1)])\n"
     ]
    },
    {
     "name": "stdout",
     "output_type": "stream",
     "text": [
      "WARNING:tensorflow:From /Users/bhavya/anaconda3/envs/cpu_env/lib/python3.7/site-packages/tensorflow/python/ops/resource_variable_ops.py:435: colocate_with (from tensorflow.python.framework.ops) is deprecated and will be removed in a future version.\n",
      "Instructions for updating:\n",
      "Colocations handled automatically by placer.\n"
     ]
    }
   ],
   "source": [
    "import numpy as np\n",
    "from keras.models import Sequential\n",
    "from keras.layers import Dense, Dropout, Activation, Flatten\n",
    "from keras.layers import Convolution2D, MaxPooling2D\n",
    "from keras.optimizers import Adam\n",
    "from keras.utils import np_utils\n",
    "from sklearn import metrics \n",
    "\n",
    "num_labels = yy.shape[1]\n",
    "filter_size = 2\n",
    "\n",
    "# Construct model \n",
    "model = Sequential()\n",
    "\n",
    "model.add(Dense(256, input_shape=(40,)))\n",
    "model.add(Activation('relu'))\n",
    "model.add(Dropout(0.5))\n",
    "\n",
    "model.add(Dense(256))\n",
    "model.add(Activation('relu'))\n",
    "model.add(Dropout(0.5))\n",
    "\n",
    "model.add(Dense(num_labels))\n",
    "model.add(Activation('softmax'))"
   ]
  },
  {
   "cell_type": "markdown",
   "metadata": {},
   "source": [
    "### Compiling the model \n",
    "\n",
    "For compiling our model, we will use the following three parameters: \n",
    "\n",
    "* Loss function - we will use `categorical_crossentropy`. This is the most common choice for classification. A lower score indicates that the model is performing better.\n",
    "\n",
    "* Metrics - we will use the `accuracy` metric which will allow us to view the accuracy score on the validation data when we train the model. \n",
    "\n",
    "* Optimizer - here we will use `adam` which is a generally good optimizer for many use cases.\n"
   ]
  },
  {
   "cell_type": "code",
   "execution_count": 3,
   "metadata": {},
   "outputs": [],
   "source": [
    "# Compile the model\n",
    "model.compile(loss='categorical_crossentropy', metrics=['accuracy'], optimizer='adam') "
   ]
  },
  {
   "cell_type": "code",
   "execution_count": 4,
   "metadata": {},
   "outputs": [
    {
     "name": "stdout",
     "output_type": "stream",
     "text": [
      "Model: \"sequential_1\"\n",
      "_________________________________________________________________\n",
      "Layer (type)                 Output Shape              Param #   \n",
      "=================================================================\n",
      "dense_1 (Dense)              (None, 256)               10496     \n",
      "_________________________________________________________________\n",
      "activation_1 (Activation)    (None, 256)               0         \n",
      "_________________________________________________________________\n",
      "dropout_1 (Dropout)          (None, 256)               0         \n",
      "_________________________________________________________________\n",
      "dense_2 (Dense)              (None, 256)               65792     \n",
      "_________________________________________________________________\n",
      "activation_2 (Activation)    (None, 256)               0         \n",
      "_________________________________________________________________\n",
      "dropout_2 (Dropout)          (None, 256)               0         \n",
      "_________________________________________________________________\n",
      "dense_3 (Dense)              (None, 10)                2570      \n",
      "_________________________________________________________________\n",
      "activation_3 (Activation)    (None, 10)                0         \n",
      "=================================================================\n",
      "Total params: 78,858\n",
      "Trainable params: 78,858\n",
      "Non-trainable params: 0\n",
      "_________________________________________________________________\n",
      "Pre-training accuracy: 5.5524%\n"
     ]
    }
   ],
   "source": [
    "# Display model architecture summary \n",
    "model.summary()\n",
    "\n",
    "# Calculate pre-training accuracy \n",
    "score = model.evaluate(x_test, y_test, verbose=0)\n",
    "accuracy = 100*score[1]\n",
    "\n",
    "print(\"Pre-training accuracy: %.4f%%\" % accuracy)"
   ]
  },
  {
   "cell_type": "markdown",
   "metadata": {},
   "source": [
    "### Training \n",
    "\n",
    "Here we will train the model. \n",
    "\n",
    "We will start with 100 epochs which is the number of times the model will cycle through the data. The model will improve on each cycle until it reaches a certain point. \n",
    "\n",
    "We will also start with a low batch size, as having a large batch size can reduce the generalisation ability of the model. "
   ]
  },
  {
   "cell_type": "code",
   "execution_count": 5,
   "metadata": {},
   "outputs": [
    {
     "name": "stdout",
     "output_type": "stream",
     "text": [
      "WARNING:tensorflow:From /Users/bhavya/anaconda3/envs/cpu_env/lib/python3.7/site-packages/tensorflow/python/ops/math_ops.py:3066: to_int32 (from tensorflow.python.ops.math_ops) is deprecated and will be removed in a future version.\n",
      "Instructions for updating:\n",
      "Use tf.cast instead.\n",
      "Train on 6985 samples, validate on 1747 samples\n",
      "Epoch 1/100\n",
      "6985/6985 [==============================] - 1s 90us/step - loss: 11.2015 - accuracy: 0.2106 - val_loss: 5.8323 - val_accuracy: 0.3709\n",
      "\n",
      "Epoch 00001: val_loss improved from inf to 5.83231, saving model to saved_models/weights.best.basic_mlp.hdf5\n",
      "Epoch 2/100\n",
      "6985/6985 [==============================] - 0s 66us/step - loss: 4.9536 - accuracy: 0.2996 - val_loss: 1.9913 - val_accuracy: 0.3578\n",
      "\n",
      "Epoch 00002: val_loss improved from 5.83231 to 1.99126, saving model to saved_models/weights.best.basic_mlp.hdf5\n",
      "Epoch 3/100\n",
      "6985/6985 [==============================] - 0s 63us/step - loss: 2.0367 - accuracy: 0.3324 - val_loss: 1.7401 - val_accuracy: 0.4264\n",
      "\n",
      "Epoch 00003: val_loss improved from 1.99126 to 1.74013, saving model to saved_models/weights.best.basic_mlp.hdf5\n",
      "Epoch 4/100\n",
      "6985/6985 [==============================] - 0s 65us/step - loss: 1.8126 - accuracy: 0.3814 - val_loss: 1.5328 - val_accuracy: 0.5352\n",
      "\n",
      "Epoch 00004: val_loss improved from 1.74013 to 1.53282, saving model to saved_models/weights.best.basic_mlp.hdf5\n",
      "Epoch 5/100\n",
      "6985/6985 [==============================] - 1s 73us/step - loss: 1.6594 - accuracy: 0.4278 - val_loss: 1.4151 - val_accuracy: 0.5575\n",
      "\n",
      "Epoch 00005: val_loss improved from 1.53282 to 1.41505, saving model to saved_models/weights.best.basic_mlp.hdf5\n",
      "Epoch 6/100\n",
      "6985/6985 [==============================] - 0s 59us/step - loss: 1.5461 - accuracy: 0.4764 - val_loss: 1.3011 - val_accuracy: 0.6022\n",
      "\n",
      "Epoch 00006: val_loss improved from 1.41505 to 1.30108, saving model to saved_models/weights.best.basic_mlp.hdf5\n",
      "Epoch 7/100\n",
      "6985/6985 [==============================] - 0s 62us/step - loss: 1.4355 - accuracy: 0.5110 - val_loss: 1.2093 - val_accuracy: 0.6027\n",
      "\n",
      "Epoch 00007: val_loss improved from 1.30108 to 1.20931, saving model to saved_models/weights.best.basic_mlp.hdf5\n",
      "Epoch 8/100\n",
      "6985/6985 [==============================] - 0s 66us/step - loss: 1.3625 - accuracy: 0.5327 - val_loss: 1.1758 - val_accuracy: 0.6445\n",
      "\n",
      "Epoch 00008: val_loss improved from 1.20931 to 1.17577, saving model to saved_models/weights.best.basic_mlp.hdf5\n",
      "Epoch 9/100\n",
      "6985/6985 [==============================] - 0s 59us/step - loss: 1.3015 - accuracy: 0.5586 - val_loss: 1.1051 - val_accuracy: 0.6760\n",
      "\n",
      "Epoch 00009: val_loss improved from 1.17577 to 1.10507, saving model to saved_models/weights.best.basic_mlp.hdf5\n",
      "Epoch 10/100\n",
      "6985/6985 [==============================] - 0s 56us/step - loss: 1.2615 - accuracy: 0.5699 - val_loss: 1.0432 - val_accuracy: 0.6846\n",
      "\n",
      "Epoch 00010: val_loss improved from 1.10507 to 1.04316, saving model to saved_models/weights.best.basic_mlp.hdf5\n",
      "Epoch 11/100\n",
      "6985/6985 [==============================] - 0s 61us/step - loss: 1.2049 - accuracy: 0.5890 - val_loss: 0.9854 - val_accuracy: 0.6995\n",
      "\n",
      "Epoch 00011: val_loss improved from 1.04316 to 0.98544, saving model to saved_models/weights.best.basic_mlp.hdf5\n",
      "Epoch 12/100\n",
      "6985/6985 [==============================] - 0s 55us/step - loss: 1.1627 - accuracy: 0.6046 - val_loss: 0.9293 - val_accuracy: 0.7247\n",
      "\n",
      "Epoch 00012: val_loss improved from 0.98544 to 0.92934, saving model to saved_models/weights.best.basic_mlp.hdf5\n",
      "Epoch 13/100\n",
      "6985/6985 [==============================] - 0s 59us/step - loss: 1.1177 - accuracy: 0.6218 - val_loss: 0.9192 - val_accuracy: 0.7195\n",
      "\n",
      "Epoch 00013: val_loss improved from 0.92934 to 0.91921, saving model to saved_models/weights.best.basic_mlp.hdf5\n",
      "Epoch 14/100\n",
      "6985/6985 [==============================] - 0s 57us/step - loss: 1.0761 - accuracy: 0.6409 - val_loss: 0.8559 - val_accuracy: 0.7350\n",
      "\n",
      "Epoch 00014: val_loss improved from 0.91921 to 0.85591, saving model to saved_models/weights.best.basic_mlp.hdf5\n",
      "Epoch 15/100\n",
      "6985/6985 [==============================] - 0s 58us/step - loss: 1.0384 - accuracy: 0.6474 - val_loss: 0.8428 - val_accuracy: 0.7453\n",
      "\n",
      "Epoch 00015: val_loss improved from 0.85591 to 0.84285, saving model to saved_models/weights.best.basic_mlp.hdf5\n",
      "Epoch 16/100\n",
      "6985/6985 [==============================] - 0s 56us/step - loss: 1.0114 - accuracy: 0.6544 - val_loss: 0.8116 - val_accuracy: 0.7544\n",
      "\n",
      "Epoch 00016: val_loss improved from 0.84285 to 0.81160, saving model to saved_models/weights.best.basic_mlp.hdf5\n",
      "Epoch 17/100\n",
      "6985/6985 [==============================] - 0s 57us/step - loss: 0.9933 - accuracy: 0.6660 - val_loss: 0.7826 - val_accuracy: 0.7716\n",
      "\n",
      "Epoch 00017: val_loss improved from 0.81160 to 0.78265, saving model to saved_models/weights.best.basic_mlp.hdf5\n",
      "Epoch 18/100\n",
      "6985/6985 [==============================] - 0s 62us/step - loss: 0.9586 - accuracy: 0.6762 - val_loss: 0.7461 - val_accuracy: 0.7762\n",
      "\n",
      "Epoch 00018: val_loss improved from 0.78265 to 0.74614, saving model to saved_models/weights.best.basic_mlp.hdf5\n",
      "Epoch 19/100\n",
      "6985/6985 [==============================] - 0s 62us/step - loss: 0.9205 - accuracy: 0.6953 - val_loss: 0.7154 - val_accuracy: 0.7876\n",
      "\n",
      "Epoch 00019: val_loss improved from 0.74614 to 0.71539, saving model to saved_models/weights.best.basic_mlp.hdf5\n",
      "Epoch 20/100\n",
      "6985/6985 [==============================] - 0s 62us/step - loss: 0.9013 - accuracy: 0.6963 - val_loss: 0.6935 - val_accuracy: 0.7882\n",
      "\n",
      "Epoch 00020: val_loss improved from 0.71539 to 0.69350, saving model to saved_models/weights.best.basic_mlp.hdf5\n",
      "Epoch 21/100\n",
      "6985/6985 [==============================] - 0s 62us/step - loss: 0.8698 - accuracy: 0.7102 - val_loss: 0.7260 - val_accuracy: 0.7842\n",
      "\n",
      "Epoch 00021: val_loss did not improve from 0.69350\n",
      "Epoch 22/100\n",
      "6985/6985 [==============================] - 0s 59us/step - loss: 0.8717 - accuracy: 0.7084 - val_loss: 0.6684 - val_accuracy: 0.8065\n",
      "\n",
      "Epoch 00022: val_loss improved from 0.69350 to 0.66836, saving model to saved_models/weights.best.basic_mlp.hdf5\n",
      "Epoch 23/100\n",
      "6985/6985 [==============================] - 0s 56us/step - loss: 0.8645 - accuracy: 0.7107 - val_loss: 0.6590 - val_accuracy: 0.7979\n",
      "\n",
      "Epoch 00023: val_loss improved from 0.66836 to 0.65900, saving model to saved_models/weights.best.basic_mlp.hdf5\n",
      "Epoch 24/100\n",
      "6985/6985 [==============================] - 0s 58us/step - loss: 0.8379 - accuracy: 0.7228 - val_loss: 0.6394 - val_accuracy: 0.8008\n",
      "\n",
      "Epoch 00024: val_loss improved from 0.65900 to 0.63940, saving model to saved_models/weights.best.basic_mlp.hdf5\n",
      "Epoch 25/100\n",
      "6985/6985 [==============================] - 0s 57us/step - loss: 0.7993 - accuracy: 0.7320 - val_loss: 0.6331 - val_accuracy: 0.8111\n",
      "\n",
      "Epoch 00025: val_loss improved from 0.63940 to 0.63307, saving model to saved_models/weights.best.basic_mlp.hdf5\n",
      "Epoch 26/100\n",
      "6985/6985 [==============================] - 0s 60us/step - loss: 0.7966 - accuracy: 0.7341 - val_loss: 0.6286 - val_accuracy: 0.8105\n",
      "\n",
      "Epoch 00026: val_loss improved from 0.63307 to 0.62862, saving model to saved_models/weights.best.basic_mlp.hdf5\n",
      "Epoch 27/100\n",
      "6985/6985 [==============================] - 0s 55us/step - loss: 0.7931 - accuracy: 0.7320 - val_loss: 0.5936 - val_accuracy: 0.8260\n",
      "\n",
      "Epoch 00027: val_loss improved from 0.62862 to 0.59360, saving model to saved_models/weights.best.basic_mlp.hdf5\n",
      "Epoch 28/100\n",
      "6985/6985 [==============================] - 0s 60us/step - loss: 0.7817 - accuracy: 0.7370 - val_loss: 0.5798 - val_accuracy: 0.8277\n",
      "\n",
      "Epoch 00028: val_loss improved from 0.59360 to 0.57981, saving model to saved_models/weights.best.basic_mlp.hdf5\n",
      "Epoch 29/100\n",
      "6985/6985 [==============================] - 0s 60us/step - loss: 0.7740 - accuracy: 0.7383 - val_loss: 0.5849 - val_accuracy: 0.8283\n",
      "\n",
      "Epoch 00029: val_loss did not improve from 0.57981\n",
      "Epoch 30/100\n",
      "6985/6985 [==============================] - 0s 64us/step - loss: 0.7505 - accuracy: 0.7462 - val_loss: 0.5765 - val_accuracy: 0.8283\n",
      "\n",
      "Epoch 00030: val_loss improved from 0.57981 to 0.57648, saving model to saved_models/weights.best.basic_mlp.hdf5\n",
      "Epoch 31/100\n",
      "6985/6985 [==============================] - 0s 61us/step - loss: 0.7250 - accuracy: 0.7525 - val_loss: 0.5701 - val_accuracy: 0.8374\n",
      "\n",
      "Epoch 00031: val_loss improved from 0.57648 to 0.57006, saving model to saved_models/weights.best.basic_mlp.hdf5\n",
      "Epoch 32/100\n"
     ]
    },
    {
     "name": "stdout",
     "output_type": "stream",
     "text": [
      "6985/6985 [==============================] - 0s 56us/step - loss: 0.7515 - accuracy: 0.7502 - val_loss: 0.5522 - val_accuracy: 0.8432\n",
      "\n",
      "Epoch 00032: val_loss improved from 0.57006 to 0.55217, saving model to saved_models/weights.best.basic_mlp.hdf5\n",
      "Epoch 33/100\n",
      "6985/6985 [==============================] - 0s 59us/step - loss: 0.7159 - accuracy: 0.7539 - val_loss: 0.5422 - val_accuracy: 0.8374\n",
      "\n",
      "Epoch 00033: val_loss improved from 0.55217 to 0.54220, saving model to saved_models/weights.best.basic_mlp.hdf5\n",
      "Epoch 34/100\n",
      "6985/6985 [==============================] - 0s 59us/step - loss: 0.6989 - accuracy: 0.7666 - val_loss: 0.5365 - val_accuracy: 0.8483\n",
      "\n",
      "Epoch 00034: val_loss improved from 0.54220 to 0.53647, saving model to saved_models/weights.best.basic_mlp.hdf5\n",
      "Epoch 35/100\n",
      "6985/6985 [==============================] - 0s 59us/step - loss: 0.7292 - accuracy: 0.7553 - val_loss: 0.5529 - val_accuracy: 0.8277\n",
      "\n",
      "Epoch 00035: val_loss did not improve from 0.53647\n",
      "Epoch 36/100\n",
      "6985/6985 [==============================] - 0s 55us/step - loss: 0.6842 - accuracy: 0.7631 - val_loss: 0.5482 - val_accuracy: 0.8432\n",
      "\n",
      "Epoch 00036: val_loss did not improve from 0.53647\n",
      "Epoch 37/100\n",
      "6985/6985 [==============================] - 0s 55us/step - loss: 0.6857 - accuracy: 0.7642 - val_loss: 0.5385 - val_accuracy: 0.8437\n",
      "\n",
      "Epoch 00037: val_loss did not improve from 0.53647\n",
      "Epoch 38/100\n",
      "6985/6985 [==============================] - 0s 56us/step - loss: 0.6771 - accuracy: 0.7785 - val_loss: 0.5509 - val_accuracy: 0.8334\n",
      "\n",
      "Epoch 00038: val_loss did not improve from 0.53647\n",
      "Epoch 39/100\n",
      "6985/6985 [==============================] - 0s 54us/step - loss: 0.6890 - accuracy: 0.7688 - val_loss: 0.5262 - val_accuracy: 0.8477\n",
      "\n",
      "Epoch 00039: val_loss improved from 0.53647 to 0.52617, saving model to saved_models/weights.best.basic_mlp.hdf5\n",
      "Epoch 40/100\n",
      "6985/6985 [==============================] - 0s 56us/step - loss: 0.6780 - accuracy: 0.7712 - val_loss: 0.5041 - val_accuracy: 0.8454\n",
      "\n",
      "Epoch 00040: val_loss improved from 0.52617 to 0.50408, saving model to saved_models/weights.best.basic_mlp.hdf5\n",
      "Epoch 41/100\n",
      "6985/6985 [==============================] - 0s 55us/step - loss: 0.6698 - accuracy: 0.7757 - val_loss: 0.5080 - val_accuracy: 0.8483\n",
      "\n",
      "Epoch 00041: val_loss did not improve from 0.50408\n",
      "Epoch 42/100\n",
      "6985/6985 [==============================] - 0s 54us/step - loss: 0.6501 - accuracy: 0.7802 - val_loss: 0.5178 - val_accuracy: 0.8540\n",
      "\n",
      "Epoch 00042: val_loss did not improve from 0.50408\n",
      "Epoch 43/100\n",
      "6985/6985 [==============================] - 0s 57us/step - loss: 0.6549 - accuracy: 0.7794 - val_loss: 0.5063 - val_accuracy: 0.8454\n",
      "\n",
      "Epoch 00043: val_loss did not improve from 0.50408\n",
      "Epoch 44/100\n",
      "6985/6985 [==============================] - 0s 56us/step - loss: 0.6377 - accuracy: 0.7923 - val_loss: 0.4781 - val_accuracy: 0.8443\n",
      "\n",
      "Epoch 00044: val_loss improved from 0.50408 to 0.47811, saving model to saved_models/weights.best.basic_mlp.hdf5\n",
      "Epoch 45/100\n",
      "6985/6985 [==============================] - 0s 57us/step - loss: 0.6456 - accuracy: 0.7805 - val_loss: 0.4947 - val_accuracy: 0.8489\n",
      "\n",
      "Epoch 00045: val_loss did not improve from 0.47811\n",
      "Epoch 46/100\n",
      "6985/6985 [==============================] - 0s 55us/step - loss: 0.6192 - accuracy: 0.7914 - val_loss: 0.4907 - val_accuracy: 0.8558\n",
      "\n",
      "Epoch 00046: val_loss did not improve from 0.47811\n",
      "Epoch 47/100\n",
      "6985/6985 [==============================] - 0s 54us/step - loss: 0.6442 - accuracy: 0.7800 - val_loss: 0.5052 - val_accuracy: 0.8506\n",
      "\n",
      "Epoch 00047: val_loss did not improve from 0.47811\n",
      "Epoch 48/100\n",
      "6985/6985 [==============================] - 0s 59us/step - loss: 0.6551 - accuracy: 0.7768 - val_loss: 0.4919 - val_accuracy: 0.8489\n",
      "\n",
      "Epoch 00048: val_loss did not improve from 0.47811\n",
      "Epoch 49/100\n",
      "6985/6985 [==============================] - 0s 57us/step - loss: 0.6215 - accuracy: 0.7880 - val_loss: 0.4897 - val_accuracy: 0.8558\n",
      "\n",
      "Epoch 00049: val_loss did not improve from 0.47811\n",
      "Epoch 50/100\n",
      "6985/6985 [==============================] - 0s 58us/step - loss: 0.6013 - accuracy: 0.7981 - val_loss: 0.4758 - val_accuracy: 0.8569\n",
      "\n",
      "Epoch 00050: val_loss improved from 0.47811 to 0.47580, saving model to saved_models/weights.best.basic_mlp.hdf5\n",
      "Epoch 51/100\n",
      "6985/6985 [==============================] - 0s 57us/step - loss: 0.6099 - accuracy: 0.7966 - val_loss: 0.4548 - val_accuracy: 0.8638\n",
      "\n",
      "Epoch 00051: val_loss improved from 0.47580 to 0.45481, saving model to saved_models/weights.best.basic_mlp.hdf5\n",
      "Epoch 52/100\n",
      "6985/6985 [==============================] - 0s 58us/step - loss: 0.5974 - accuracy: 0.7934 - val_loss: 0.4715 - val_accuracy: 0.8580\n",
      "\n",
      "Epoch 00052: val_loss did not improve from 0.45481\n",
      "Epoch 53/100\n",
      "6985/6985 [==============================] - 0s 55us/step - loss: 0.6053 - accuracy: 0.7946 - val_loss: 0.4421 - val_accuracy: 0.8666\n",
      "\n",
      "Epoch 00053: val_loss improved from 0.45481 to 0.44208, saving model to saved_models/weights.best.basic_mlp.hdf5\n",
      "Epoch 54/100\n",
      "6985/6985 [==============================] - 0s 62us/step - loss: 0.5995 - accuracy: 0.8026 - val_loss: 0.4548 - val_accuracy: 0.8689\n",
      "\n",
      "Epoch 00054: val_loss did not improve from 0.44208\n",
      "Epoch 55/100\n",
      "6985/6985 [==============================] - 0s 57us/step - loss: 0.6268 - accuracy: 0.7940 - val_loss: 0.4682 - val_accuracy: 0.8643\n",
      "\n",
      "Epoch 00055: val_loss did not improve from 0.44208\n",
      "Epoch 56/100\n",
      "6985/6985 [==============================] - 0s 55us/step - loss: 0.6178 - accuracy: 0.7930 - val_loss: 0.4772 - val_accuracy: 0.8609\n",
      "\n",
      "Epoch 00056: val_loss did not improve from 0.44208\n",
      "Epoch 57/100\n",
      "6985/6985 [==============================] - 0s 53us/step - loss: 0.5902 - accuracy: 0.7984 - val_loss: 0.4620 - val_accuracy: 0.8638\n",
      "\n",
      "Epoch 00057: val_loss did not improve from 0.44208\n",
      "Epoch 58/100\n",
      "6985/6985 [==============================] - 0s 55us/step - loss: 0.6038 - accuracy: 0.7963 - val_loss: 0.4612 - val_accuracy: 0.8672\n",
      "\n",
      "Epoch 00058: val_loss did not improve from 0.44208\n",
      "Epoch 59/100\n",
      "6985/6985 [==============================] - 0s 58us/step - loss: 0.5888 - accuracy: 0.8044 - val_loss: 0.4742 - val_accuracy: 0.8558\n",
      "\n",
      "Epoch 00059: val_loss did not improve from 0.44208\n",
      "Epoch 60/100\n",
      "6985/6985 [==============================] - 0s 56us/step - loss: 0.5916 - accuracy: 0.8027 - val_loss: 0.4847 - val_accuracy: 0.8529\n",
      "\n",
      "Epoch 00060: val_loss did not improve from 0.44208\n",
      "Epoch 61/100\n",
      "6985/6985 [==============================] - 0s 55us/step - loss: 0.5650 - accuracy: 0.8102 - val_loss: 0.4568 - val_accuracy: 0.8552\n",
      "\n",
      "Epoch 00061: val_loss did not improve from 0.44208\n",
      "Epoch 62/100\n",
      "6985/6985 [==============================] - 0s 57us/step - loss: 0.5802 - accuracy: 0.8039 - val_loss: 0.4500 - val_accuracy: 0.8615\n",
      "\n",
      "Epoch 00062: val_loss did not improve from 0.44208\n",
      "Epoch 63/100\n",
      "6985/6985 [==============================] - 0s 54us/step - loss: 0.5736 - accuracy: 0.8079 - val_loss: 0.4590 - val_accuracy: 0.8609\n",
      "\n",
      "Epoch 00063: val_loss did not improve from 0.44208\n",
      "Epoch 64/100\n",
      "6985/6985 [==============================] - 0s 57us/step - loss: 0.5613 - accuracy: 0.8103 - val_loss: 0.4701 - val_accuracy: 0.8609\n",
      "\n",
      "Epoch 00064: val_loss did not improve from 0.44208\n",
      "Epoch 65/100\n",
      "6985/6985 [==============================] - 0s 53us/step - loss: 0.5813 - accuracy: 0.8016 - val_loss: 0.4621 - val_accuracy: 0.8712\n",
      "\n",
      "Epoch 00065: val_loss did not improve from 0.44208\n",
      "Epoch 66/100\n",
      "6985/6985 [==============================] - 0s 55us/step - loss: 0.5614 - accuracy: 0.8054 - val_loss: 0.4500 - val_accuracy: 0.8666\n",
      "\n",
      "Epoch 00066: val_loss did not improve from 0.44208\n",
      "Epoch 67/100\n",
      "6985/6985 [==============================] - 0s 54us/step - loss: 0.5885 - accuracy: 0.8033 - val_loss: 0.4733 - val_accuracy: 0.8575\n",
      "\n",
      "Epoch 00067: val_loss did not improve from 0.44208\n",
      "Epoch 68/100\n",
      "6985/6985 [==============================] - 0s 55us/step - loss: 0.5656 - accuracy: 0.8080 - val_loss: 0.4328 - val_accuracy: 0.8798\n",
      "\n",
      "Epoch 00068: val_loss improved from 0.44208 to 0.43277, saving model to saved_models/weights.best.basic_mlp.hdf5\n",
      "Epoch 69/100\n",
      "6985/6985 [==============================] - 0s 53us/step - loss: 0.5708 - accuracy: 0.8162 - val_loss: 0.4283 - val_accuracy: 0.8729\n",
      "\n",
      "Epoch 00069: val_loss improved from 0.43277 to 0.42831, saving model to saved_models/weights.best.basic_mlp.hdf5\n",
      "Epoch 70/100\n"
     ]
    },
    {
     "name": "stdout",
     "output_type": "stream",
     "text": [
      "6985/6985 [==============================] - 0s 52us/step - loss: 0.5538 - accuracy: 0.8152 - val_loss: 0.4437 - val_accuracy: 0.8643\n",
      "\n",
      "Epoch 00070: val_loss did not improve from 0.42831\n",
      "Epoch 71/100\n",
      "6985/6985 [==============================] - 0s 53us/step - loss: 0.5546 - accuracy: 0.8178 - val_loss: 0.4354 - val_accuracy: 0.8758\n",
      "\n",
      "Epoch 00071: val_loss did not improve from 0.42831\n",
      "Epoch 72/100\n",
      "6985/6985 [==============================] - 0s 51us/step - loss: 0.5856 - accuracy: 0.8092 - val_loss: 0.4350 - val_accuracy: 0.8769\n",
      "\n",
      "Epoch 00072: val_loss did not improve from 0.42831\n",
      "Epoch 73/100\n",
      "6985/6985 [==============================] - 0s 51us/step - loss: 0.5444 - accuracy: 0.8152 - val_loss: 0.4557 - val_accuracy: 0.8712\n",
      "\n",
      "Epoch 00073: val_loss did not improve from 0.42831\n",
      "Epoch 74/100\n",
      "6985/6985 [==============================] - 0s 55us/step - loss: 0.5473 - accuracy: 0.8160 - val_loss: 0.4427 - val_accuracy: 0.8718\n",
      "\n",
      "Epoch 00074: val_loss did not improve from 0.42831\n",
      "Epoch 75/100\n",
      "6985/6985 [==============================] - 0s 53us/step - loss: 0.5411 - accuracy: 0.8159 - val_loss: 0.4585 - val_accuracy: 0.8683\n",
      "\n",
      "Epoch 00075: val_loss did not improve from 0.42831\n",
      "Epoch 76/100\n",
      "6985/6985 [==============================] - 0s 54us/step - loss: 0.5526 - accuracy: 0.8136 - val_loss: 0.4251 - val_accuracy: 0.8741\n",
      "\n",
      "Epoch 00076: val_loss improved from 0.42831 to 0.42508, saving model to saved_models/weights.best.basic_mlp.hdf5\n",
      "Epoch 77/100\n",
      "6985/6985 [==============================] - 0s 54us/step - loss: 0.5452 - accuracy: 0.8146 - val_loss: 0.4403 - val_accuracy: 0.8689\n",
      "\n",
      "Epoch 00077: val_loss did not improve from 0.42508\n",
      "Epoch 78/100\n",
      "6985/6985 [==============================] - 0s 53us/step - loss: 0.5431 - accuracy: 0.8186 - val_loss: 0.4252 - val_accuracy: 0.8809\n",
      "\n",
      "Epoch 00078: val_loss did not improve from 0.42508\n",
      "Epoch 79/100\n",
      "6985/6985 [==============================] - 0s 54us/step - loss: 0.5681 - accuracy: 0.8074 - val_loss: 0.4291 - val_accuracy: 0.8752\n",
      "\n",
      "Epoch 00079: val_loss did not improve from 0.42508\n",
      "Epoch 80/100\n",
      "6985/6985 [==============================] - 0s 55us/step - loss: 0.5450 - accuracy: 0.8209 - val_loss: 0.4135 - val_accuracy: 0.8804\n",
      "\n",
      "Epoch 00080: val_loss improved from 0.42508 to 0.41355, saving model to saved_models/weights.best.basic_mlp.hdf5\n",
      "Epoch 81/100\n",
      "6985/6985 [==============================] - 0s 56us/step - loss: 0.5168 - accuracy: 0.8230 - val_loss: 0.4213 - val_accuracy: 0.8781\n",
      "\n",
      "Epoch 00081: val_loss did not improve from 0.41355\n",
      "Epoch 82/100\n",
      "6985/6985 [==============================] - 0s 58us/step - loss: 0.5524 - accuracy: 0.8188 - val_loss: 0.4258 - val_accuracy: 0.8752\n",
      "\n",
      "Epoch 00082: val_loss did not improve from 0.41355\n",
      "Epoch 83/100\n",
      "6985/6985 [==============================] - 0s 55us/step - loss: 0.5371 - accuracy: 0.8189 - val_loss: 0.4255 - val_accuracy: 0.8764\n",
      "\n",
      "Epoch 00083: val_loss did not improve from 0.41355\n",
      "Epoch 84/100\n",
      "6985/6985 [==============================] - 0s 53us/step - loss: 0.5293 - accuracy: 0.8283 - val_loss: 0.4185 - val_accuracy: 0.8729\n",
      "\n",
      "Epoch 00084: val_loss did not improve from 0.41355\n",
      "Epoch 85/100\n",
      "6985/6985 [==============================] - 0s 55us/step - loss: 0.5332 - accuracy: 0.8190 - val_loss: 0.4248 - val_accuracy: 0.8701\n",
      "\n",
      "Epoch 00085: val_loss did not improve from 0.41355\n",
      "Epoch 86/100\n",
      "6985/6985 [==============================] - 0s 54us/step - loss: 0.5166 - accuracy: 0.8319 - val_loss: 0.4100 - val_accuracy: 0.8786\n",
      "\n",
      "Epoch 00086: val_loss improved from 0.41355 to 0.40999, saving model to saved_models/weights.best.basic_mlp.hdf5\n",
      "Epoch 87/100\n",
      "6985/6985 [==============================] - 0s 54us/step - loss: 0.5314 - accuracy: 0.8199 - val_loss: 0.4118 - val_accuracy: 0.8867\n",
      "\n",
      "Epoch 00087: val_loss did not improve from 0.40999\n",
      "Epoch 88/100\n",
      "6985/6985 [==============================] - 0s 58us/step - loss: 0.5252 - accuracy: 0.8251 - val_loss: 0.4264 - val_accuracy: 0.8758\n",
      "\n",
      "Epoch 00088: val_loss did not improve from 0.40999\n",
      "Epoch 89/100\n",
      "6985/6985 [==============================] - 0s 53us/step - loss: 0.5407 - accuracy: 0.8212 - val_loss: 0.4234 - val_accuracy: 0.8729\n",
      "\n",
      "Epoch 00089: val_loss did not improve from 0.40999\n",
      "Epoch 90/100\n",
      "6985/6985 [==============================] - 0s 57us/step - loss: 0.5205 - accuracy: 0.8269 - val_loss: 0.4193 - val_accuracy: 0.8764\n",
      "\n",
      "Epoch 00090: val_loss did not improve from 0.40999\n",
      "Epoch 91/100\n",
      "6985/6985 [==============================] - 0s 56us/step - loss: 0.4889 - accuracy: 0.8334 - val_loss: 0.4302 - val_accuracy: 0.8764\n",
      "\n",
      "Epoch 00091: val_loss did not improve from 0.40999\n",
      "Epoch 92/100\n",
      "6985/6985 [==============================] - 0s 55us/step - loss: 0.5302 - accuracy: 0.8206 - val_loss: 0.4241 - val_accuracy: 0.8752\n",
      "\n",
      "Epoch 00092: val_loss did not improve from 0.40999\n",
      "Epoch 93/100\n",
      "6985/6985 [==============================] - 0s 57us/step - loss: 0.5132 - accuracy: 0.8262 - val_loss: 0.4260 - val_accuracy: 0.8683\n",
      "\n",
      "Epoch 00093: val_loss did not improve from 0.40999\n",
      "Epoch 94/100\n",
      "6985/6985 [==============================] - 0s 53us/step - loss: 0.5092 - accuracy: 0.8318 - val_loss: 0.4276 - val_accuracy: 0.8781\n",
      "\n",
      "Epoch 00094: val_loss did not improve from 0.40999\n",
      "Epoch 95/100\n",
      "6985/6985 [==============================] - 0s 57us/step - loss: 0.5311 - accuracy: 0.8261 - val_loss: 0.4105 - val_accuracy: 0.8804\n",
      "\n",
      "Epoch 00095: val_loss did not improve from 0.40999\n",
      "Epoch 96/100\n",
      "6985/6985 [==============================] - 0s 56us/step - loss: 0.5086 - accuracy: 0.8305 - val_loss: 0.4226 - val_accuracy: 0.8775\n",
      "\n",
      "Epoch 00096: val_loss did not improve from 0.40999\n",
      "Epoch 97/100\n",
      "6985/6985 [==============================] - 0s 55us/step - loss: 0.5046 - accuracy: 0.8345 - val_loss: 0.4132 - val_accuracy: 0.8832\n",
      "\n",
      "Epoch 00097: val_loss did not improve from 0.40999\n",
      "Epoch 98/100\n",
      "6985/6985 [==============================] - 0s 54us/step - loss: 0.5300 - accuracy: 0.8238 - val_loss: 0.4334 - val_accuracy: 0.8752\n",
      "\n",
      "Epoch 00098: val_loss did not improve from 0.40999\n",
      "Epoch 99/100\n",
      "6985/6985 [==============================] - 0s 54us/step - loss: 0.4986 - accuracy: 0.8316 - val_loss: 0.4195 - val_accuracy: 0.8746\n",
      "\n",
      "Epoch 00099: val_loss did not improve from 0.40999\n",
      "Epoch 100/100\n",
      "6985/6985 [==============================] - 0s 53us/step - loss: 0.5107 - accuracy: 0.8309 - val_loss: 0.4210 - val_accuracy: 0.8804\n",
      "\n",
      "Epoch 00100: val_loss did not improve from 0.40999\n",
      "Training completed in time:  0:00:41.713885\n"
     ]
    }
   ],
   "source": [
    "from keras.callbacks import ModelCheckpoint \n",
    "from datetime import datetime \n",
    "\n",
    "num_epochs = 100\n",
    "num_batch_size = 32\n",
    "\n",
    "checkpointer = ModelCheckpoint(filepath='saved_models/weights.best.basic_mlp.hdf5', \n",
    "                               verbose=1, save_best_only=True)\n",
    "start = datetime.now()\n",
    "\n",
    "model.fit(x_train, y_train, batch_size=num_batch_size, epochs=num_epochs, validation_data=(x_test, y_test), callbacks=[checkpointer], verbose=1)\n",
    "\n",
    "\n",
    "duration = datetime.now() - start\n",
    "print(\"Training completed in time: \", duration)"
   ]
  },
  {
   "cell_type": "markdown",
   "metadata": {},
   "source": [
    "### Test the model \n",
    "\n",
    "Here we will review the accuracy of the model on both the training and test data sets. "
   ]
  },
  {
   "cell_type": "code",
   "execution_count": 6,
   "metadata": {},
   "outputs": [
    {
     "name": "stdout",
     "output_type": "stream",
     "text": [
      "Training Accuracy:  0.9315676689147949\n",
      "Testing Accuracy:  0.880366325378418\n"
     ]
    }
   ],
   "source": [
    "# Evaluating the model on the training and testing set\n",
    "score = model.evaluate(x_train, y_train, verbose=0)\n",
    "print(\"Training Accuracy: \", score[1])\n",
    "\n",
    "score = model.evaluate(x_test, y_test, verbose=0)\n",
    "print(\"Testing Accuracy: \", score[1])"
   ]
  },
  {
   "cell_type": "markdown",
   "metadata": {},
   "source": [
    "The initial Training and Testing accuracy scores are quite high. As there is not a great difference between the Training and Test scores (~5%) this suggests that the model has not suffered from overfitting. "
   ]
  },
  {
   "cell_type": "markdown",
   "metadata": {},
   "source": [
    "### Predictions  \n",
    "\n",
    "Here we will build a method which will allow us to test the models predictions on a specified audio .wav file. "
   ]
  },
  {
   "cell_type": "code",
   "execution_count": 7,
   "metadata": {},
   "outputs": [],
   "source": [
    "import librosa \n",
    "import numpy as np \n",
    "\n",
    "def extract_feature(file_name):\n",
    "   \n",
    "    try:\n",
    "        audio_data, sample_rate = librosa.load(file_name, res_type='kaiser_fast') \n",
    "        mfccs = librosa.feature.mfcc(y=audio_data, sr=sample_rate, n_mfcc=40)\n",
    "        mfccsscaled = np.mean(mfccs.T,axis=0)\n",
    "        \n",
    "    except Exception as e:\n",
    "        print(\"Error encountered while parsing file: \", file)\n",
    "        return None, None\n",
    "\n",
    "    return np.array([mfccsscaled])\n"
   ]
  },
  {
   "cell_type": "code",
   "execution_count": 8,
   "metadata": {},
   "outputs": [],
   "source": [
    "def print_prediction(file_name):\n",
    "    prediction_feature = extract_feature(file_name) \n",
    "\n",
    "    predicted_vector = model.predict_classes(prediction_feature)\n",
    "    predicted_class = le.inverse_transform(predicted_vector) \n",
    "    print(\"The predicted class is:\", predicted_class[0], '\\n') \n",
    "\n",
    "    predicted_proba_vector = model.predict_proba(prediction_feature) \n",
    "    predicted_proba = predicted_proba_vector[0]\n",
    "    for i in range(len(predicted_proba)): \n",
    "        category = le.inverse_transform(np.array([i]))\n",
    "        print(category[0], \"\\t\\t : \", format(predicted_proba[i], '.32f') )"
   ]
  },
  {
   "cell_type": "markdown",
   "metadata": {},
   "source": [
    "### Validation \n",
    "\n",
    "#### Test with sample data \n",
    "\n",
    "Initial sainity check to verify the predictions using a subsection of the sample audio files we explored in the first notebook. We expect the bulk of these to be classified correctly. "
   ]
  },
  {
   "cell_type": "code",
   "execution_count": 9,
   "metadata": {},
   "outputs": [
    {
     "name": "stdout",
     "output_type": "stream",
     "text": [
      "The predicted class is: air_conditioner \n",
      "\n",
      "air_conditioner \t\t :  0.99999380111694335937500000000000\n",
      "car_horn \t\t :  0.00000000555373436128547837142833\n",
      "children_playing \t\t :  0.00000163127674568386282771825790\n",
      "dog_bark \t\t :  0.00000015679631815146422013640404\n",
      "drilling \t\t :  0.00000291759624815313145518302917\n",
      "engine_idling \t\t :  0.00000081592742162683862261474133\n",
      "gun_shot \t\t :  0.00000001164550766930005920585245\n",
      "jackhammer \t\t :  0.00000063732443322805920615792274\n",
      "siren \t\t :  0.00000000005898734972697994294322\n",
      "street_music \t\t :  0.00000004880940096541053208056837\n"
     ]
    }
   ],
   "source": [
    "# Class: Air Conditioner\n",
    "\n",
    "filename = '../UrbanSound Dataset sample/audio/100852-0-0-0.wav' \n",
    "print_prediction(filename) "
   ]
  },
  {
   "cell_type": "code",
   "execution_count": 10,
   "metadata": {
    "scrolled": true
   },
   "outputs": [
    {
     "name": "stdout",
     "output_type": "stream",
     "text": [
      "The predicted class is: street_music \n",
      "\n",
      "air_conditioner \t\t :  0.00000003026374173487056395970285\n",
      "car_horn \t\t :  0.00000595925257584895007312297821\n",
      "children_playing \t\t :  0.00005171071097720414400100708008\n",
      "dog_bark \t\t :  0.00003775984077947214245796203613\n",
      "drilling \t\t :  0.41230171918869018554687500000000\n",
      "engine_idling \t\t :  0.00000001411426975295171359903179\n",
      "gun_shot \t\t :  0.00000008006793450476834550499916\n",
      "jackhammer \t\t :  0.00000058555855275699286721646786\n",
      "siren \t\t :  0.00000000163676161513137685687980\n",
      "street_music \t\t :  0.58760219812393188476562500000000\n"
     ]
    }
   ],
   "source": [
    "# Class: Drilling\n",
    "\n",
    "filename = '../UrbanSound Dataset sample/audio/103199-4-0-0.wav'\n",
    "print_prediction(filename) "
   ]
  },
  {
   "cell_type": "code",
   "execution_count": 11,
   "metadata": {},
   "outputs": [
    {
     "name": "stdout",
     "output_type": "stream",
     "text": [
      "The predicted class is: street_music \n",
      "\n",
      "air_conditioner \t\t :  0.01390491519123315811157226562500\n",
      "car_horn \t\t :  0.00386997428722679615020751953125\n",
      "children_playing \t\t :  0.06208047270774841308593750000000\n",
      "dog_bark \t\t :  0.02224843762814998626708984375000\n",
      "drilling \t\t :  0.00544879632070660591125488281250\n",
      "engine_idling \t\t :  0.00204028235748410224914550781250\n",
      "gun_shot \t\t :  0.00171441223938018083572387695312\n",
      "jackhammer \t\t :  0.03946266323328018188476562500000\n",
      "siren \t\t :  0.00202519563026726245880126953125\n",
      "street_music \t\t :  0.84720492362976074218750000000000\n"
     ]
    }
   ],
   "source": [
    "# Class: Street music \n",
    "\n",
    "filename = '../UrbanSound Dataset sample/audio/101848-9-0-0.wav'\n",
    "print_prediction(filename) "
   ]
  },
  {
   "cell_type": "code",
   "execution_count": 12,
   "metadata": {},
   "outputs": [
    {
     "name": "stdout",
     "output_type": "stream",
     "text": [
      "The predicted class is: dog_bark \n",
      "\n",
      "air_conditioner \t\t :  0.00177519978024065494537353515625\n",
      "car_horn \t\t :  0.28378158807754516601562500000000\n",
      "children_playing \t\t :  0.01201169472187757492065429687500\n",
      "dog_bark \t\t :  0.34475034475326538085937500000000\n",
      "drilling \t\t :  0.15373921394348144531250000000000\n",
      "engine_idling \t\t :  0.00199882802553474903106689453125\n",
      "gun_shot \t\t :  0.00488347373902797698974609375000\n",
      "jackhammer \t\t :  0.00751307141035795211791992187500\n",
      "siren \t\t :  0.00164022482931613922119140625000\n",
      "street_music \t\t :  0.18790635466575622558593750000000\n"
     ]
    }
   ],
   "source": [
    "# Class: Car Horn \n",
    "\n",
    "filename = '../UrbanSound Dataset sample/audio/100648-1-0-0.wav'\n",
    "print_prediction(filename) "
   ]
  },
  {
   "cell_type": "markdown",
   "metadata": {},
   "source": [
    "#### Observations \n",
    "\n",
    "From this brief sanity check the model seems to predict well. One errror was observed whereby a car horn was incorrectly classifed as a dog bark. \n",
    "\n",
    "We can see from the per class confidence that this was quite a low score (43%). This allows follows our early observation that a dog bark and car horn are similar in spectral shape. "
   ]
  },
  {
   "cell_type": "markdown",
   "metadata": {},
   "source": [
    "### Other audio\n",
    "\n",
    "Here we will use a sample of various copyright free sounds that we not part of either our test or training data to further validate our model. "
   ]
  },
  {
   "cell_type": "code",
   "execution_count": 13,
   "metadata": {},
   "outputs": [
    {
     "name": "stdout",
     "output_type": "stream",
     "text": [
      "The predicted class is: dog_bark \n",
      "\n",
      "air_conditioner \t\t :  0.00005259284080239012837409973145\n",
      "car_horn \t\t :  0.01414114609360694885253906250000\n",
      "children_playing \t\t :  0.00767272943630814552307128906250\n",
      "dog_bark \t\t :  0.86162441968917846679687500000000\n",
      "drilling \t\t :  0.01549693755805492401123046875000\n",
      "engine_idling \t\t :  0.00000679979439155431464314460754\n",
      "gun_shot \t\t :  0.01462879497557878494262695312500\n",
      "jackhammer \t\t :  0.00002205451892223209142684936523\n",
      "siren \t\t :  0.00021641349303536117076873779297\n",
      "street_music \t\t :  0.08613799512386322021484375000000\n"
     ]
    }
   ],
   "source": [
    "filename = '../Evaluation audio/dog_bark_1.wav'\n",
    "print_prediction(filename) "
   ]
  },
  {
   "cell_type": "code",
   "execution_count": 14,
   "metadata": {
    "scrolled": true
   },
   "outputs": [
    {
     "name": "stdout",
     "output_type": "stream",
     "text": [
      "The predicted class is: drilling \n",
      "\n",
      "air_conditioner \t\t :  0.04326583445072174072265625000000\n",
      "car_horn \t\t :  0.00000276631953965988941490650177\n",
      "children_playing \t\t :  0.00069270801031962037086486816406\n",
      "dog_bark \t\t :  0.00009103608317673206329345703125\n",
      "drilling \t\t :  0.95385897159576416015625000000000\n",
      "engine_idling \t\t :  0.00055959104793146252632141113281\n",
      "gun_shot \t\t :  0.00000484342490381095558404922485\n",
      "jackhammer \t\t :  0.00138583348598331212997436523438\n",
      "siren \t\t :  0.00000095427276392001658678054810\n",
      "street_music \t\t :  0.00013732921797782182693481445312\n"
     ]
    }
   ],
   "source": [
    "filename = '../Evaluation audio/drilling_1.wav'\n",
    "\n",
    "print_prediction(filename) "
   ]
  },
  {
   "cell_type": "code",
   "execution_count": 15,
   "metadata": {},
   "outputs": [
    {
     "name": "stdout",
     "output_type": "stream",
     "text": [
      "The predicted class is: dog_bark \n",
      "\n",
      "air_conditioner \t\t :  0.00274201296269893646240234375000\n",
      "car_horn \t\t :  0.00001035439800034509971737861633\n",
      "children_playing \t\t :  0.00000819436263554962351918220520\n",
      "dog_bark \t\t :  0.49960061907768249511718750000000\n",
      "drilling \t\t :  0.00007722984446445479989051818848\n",
      "engine_idling \t\t :  0.00005253454582998529076576232910\n",
      "gun_shot \t\t :  0.00035251950612291693687438964844\n",
      "jackhammer \t\t :  0.00000070260449547276948578655720\n",
      "siren \t\t :  0.00005389723082771524786949157715\n",
      "street_music \t\t :  0.49710193276405334472656250000000\n"
     ]
    }
   ],
   "source": [
    "filename = '../Evaluation audio/gun_shot_1.wav'\n",
    "\n",
    "print_prediction(filename) \n",
    "\n",
    "# sample data weighted towards gun shot - peak in the dog barking sample is simmilar in shape to the gun shot sample"
   ]
  },
  {
   "cell_type": "code",
   "execution_count": 16,
   "metadata": {},
   "outputs": [
    {
     "name": "stdout",
     "output_type": "stream",
     "text": [
      "The predicted class is: siren \n",
      "\n",
      "air_conditioner \t\t :  0.00001048117519530933350324630737\n",
      "car_horn \t\t :  0.00015899920254014432430267333984\n",
      "children_playing \t\t :  0.00137591850943863391876220703125\n",
      "dog_bark \t\t :  0.01713156886398792266845703125000\n",
      "drilling \t\t :  0.00000629096939519513398408889771\n",
      "engine_idling \t\t :  0.02563379704952239990234375000000\n",
      "gun_shot \t\t :  0.00038412530557252466678619384766\n",
      "jackhammer \t\t :  0.00000720441039447905495762825012\n",
      "siren \t\t :  0.95451909303665161132812500000000\n",
      "street_music \t\t :  0.00077248347224667668342590332031\n"
     ]
    }
   ],
   "source": [
    "filename = '../Evaluation audio/siren_1.wav'\n",
    "\n",
    "print_prediction(filename) "
   ]
  },
  {
   "cell_type": "markdown",
   "metadata": {},
   "source": [
    "#### Observations \n",
    "\n",
    "The performance of our initial model is satisfactorry and has generalised well, seeming to predict well when tested against new audio data. "
   ]
  },
  {
   "cell_type": "markdown",
   "metadata": {},
   "source": [
    "### *In the next notebook we will refine our model*"
   ]
  }
 ],
 "metadata": {
  "kernelspec": {
   "display_name": "Python 3",
   "language": "python",
   "name": "python3"
  },
  "language_info": {
   "codemirror_mode": {
    "name": "ipython",
    "version": 3
   },
   "file_extension": ".py",
   "mimetype": "text/x-python",
   "name": "python",
   "nbconvert_exporter": "python",
   "pygments_lexer": "ipython3",
   "version": "3.7.4"
  }
 },
 "nbformat": 4,
 "nbformat_minor": 2
}
