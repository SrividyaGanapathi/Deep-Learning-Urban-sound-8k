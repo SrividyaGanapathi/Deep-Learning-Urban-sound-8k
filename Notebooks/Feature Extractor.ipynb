{
 "cells": [
  {
   "cell_type": "code",
   "execution_count": 1,
   "metadata": {},
   "outputs": [],
   "source": [
    "import librosa \n",
    "from scipy.io import wavfile as wav\n",
    "import numpy as np\n",
    "from tqdm import tqdm\n",
    "import pandas as pd\n",
    "import os"
   ]
  },
  {
   "cell_type": "code",
   "execution_count": 2,
   "metadata": {},
   "outputs": [],
   "source": [
    "def extract_features(file_name):\n",
    "   \n",
    "    try:\n",
    "        audio, sample_rate = librosa.load(file_name, res_type='kaiser_fast') \n",
    "        mfccs = librosa.feature.mfcc(y=audio, sr=sample_rate, n_mfcc=40)\n",
    "        \n",
    "        \n",
    "    except Exception as e:\n",
    "        print(\"Error encountered while parsing file: \", file)\n",
    "        return None \n",
    "     \n",
    "    return mfccs"
   ]
  },
  {
   "cell_type": "code",
   "execution_count": 3,
   "metadata": {},
   "outputs": [],
   "source": [
    "# Set the path to the full UrbanSound dataset \n",
    "fulldatasetpath = '../Dataset/UrbanSound8K/audio/'\n",
    "\n",
    "metadata = pd.read_csv('../UrbanSound Dataset sample/metadata/UrbanSound8K.csv')\n",
    "\n",
    "features = []"
   ]
  },
  {
   "cell_type": "code",
   "execution_count": null,
   "metadata": {},
   "outputs": [],
   "source": [
    "# Iterate through each sound file and extract the features \n",
    "for index, row in tqdm(metadata.iterrows()):\n",
    "    \n",
    "    file_name = os.path.join(os.path.abspath(fulldatasetpath),'fold'+str(row[\"fold\"])+'/',str(row[\"slice_file_name\"]))\n",
    "    \n",
    "    class_label = row[\"class_name\"]\n",
    "    fold = row[\"fold\"]\n",
    "    data = extract_features(file_name)\n",
    "    \n",
    "    features.append([data, fold, class_label])"
   ]
  },
  {
   "cell_type": "code",
   "execution_count": 8,
   "metadata": {},
   "outputs": [
    {
     "name": "stdout",
     "output_type": "stream",
     "text": [
      "Finished feature extraction from  8732  files\n"
     ]
    }
   ],
   "source": [
    "# Convert into a Panda dataframe \n",
    "featuresdf = pd.DataFrame(features, columns=['feature','fold','class_label'])\n",
    "\n",
    "print('Finished feature extraction from ', len(featuresdf), ' files') "
   ]
  },
  {
   "cell_type": "code",
   "execution_count": 9,
   "metadata": {},
   "outputs": [
    {
     "data": {
      "text/html": [
       "<div>\n",
       "<style scoped>\n",
       "    .dataframe tbody tr th:only-of-type {\n",
       "        vertical-align: middle;\n",
       "    }\n",
       "\n",
       "    .dataframe tbody tr th {\n",
       "        vertical-align: top;\n",
       "    }\n",
       "\n",
       "    .dataframe thead th {\n",
       "        text-align: right;\n",
       "    }\n",
       "</style>\n",
       "<table border=\"1\" class=\"dataframe\">\n",
       "  <thead>\n",
       "    <tr style=\"text-align: right;\">\n",
       "      <th></th>\n",
       "      <th>feature</th>\n",
       "      <th>fold</th>\n",
       "      <th>class_label</th>\n",
       "    </tr>\n",
       "  </thead>\n",
       "  <tbody>\n",
       "    <tr>\n",
       "      <td>0</td>\n",
       "      <td>[[-306.77255, -177.59209, -99.13616, -65.97198...</td>\n",
       "      <td>5</td>\n",
       "      <td>dog_bark</td>\n",
       "    </tr>\n",
       "    <tr>\n",
       "      <td>1</td>\n",
       "      <td>[[-457.69534, -451.0248, -450.68613, -444.9999...</td>\n",
       "      <td>5</td>\n",
       "      <td>children_playing</td>\n",
       "    </tr>\n",
       "    <tr>\n",
       "      <td>2</td>\n",
       "      <td>[[-468.0367, -467.42264, -481.04654, -486.5948...</td>\n",
       "      <td>5</td>\n",
       "      <td>children_playing</td>\n",
       "    </tr>\n",
       "    <tr>\n",
       "      <td>3</td>\n",
       "      <td>[[-422.42215, -411.9085, -409.46243, -409.0892...</td>\n",
       "      <td>5</td>\n",
       "      <td>children_playing</td>\n",
       "    </tr>\n",
       "    <tr>\n",
       "      <td>4</td>\n",
       "      <td>[[-438.10162, -434.47787, -443.3284, -442.6643...</td>\n",
       "      <td>5</td>\n",
       "      <td>children_playing</td>\n",
       "    </tr>\n",
       "    <tr>\n",
       "      <td>...</td>\n",
       "      <td>...</td>\n",
       "      <td>...</td>\n",
       "      <td>...</td>\n",
       "    </tr>\n",
       "    <tr>\n",
       "      <td>8727</td>\n",
       "      <td>[[-397.82446, -400.45578, -407.5035, -408.9529...</td>\n",
       "      <td>7</td>\n",
       "      <td>car_horn</td>\n",
       "    </tr>\n",
       "    <tr>\n",
       "      <td>8728</td>\n",
       "      <td>[[-451.81265, -451.41983, -450.67892, -445.635...</td>\n",
       "      <td>7</td>\n",
       "      <td>car_horn</td>\n",
       "    </tr>\n",
       "    <tr>\n",
       "      <td>8729</td>\n",
       "      <td>[[-301.06348, -298.25397, -305.0326, -303.8614...</td>\n",
       "      <td>7</td>\n",
       "      <td>car_horn</td>\n",
       "    </tr>\n",
       "    <tr>\n",
       "      <td>8730</td>\n",
       "      <td>[[-373.6307, -369.44986, -366.48, -364.9094, -...</td>\n",
       "      <td>7</td>\n",
       "      <td>car_horn</td>\n",
       "    </tr>\n",
       "    <tr>\n",
       "      <td>8731</td>\n",
       "      <td>[[-309.34647, -305.3132, -308.23593, -308.1856...</td>\n",
       "      <td>7</td>\n",
       "      <td>car_horn</td>\n",
       "    </tr>\n",
       "  </tbody>\n",
       "</table>\n",
       "<p>8732 rows × 3 columns</p>\n",
       "</div>"
      ],
      "text/plain": [
       "                                                feature  fold  \\\n",
       "0     [[-306.77255, -177.59209, -99.13616, -65.97198...     5   \n",
       "1     [[-457.69534, -451.0248, -450.68613, -444.9999...     5   \n",
       "2     [[-468.0367, -467.42264, -481.04654, -486.5948...     5   \n",
       "3     [[-422.42215, -411.9085, -409.46243, -409.0892...     5   \n",
       "4     [[-438.10162, -434.47787, -443.3284, -442.6643...     5   \n",
       "...                                                 ...   ...   \n",
       "8727  [[-397.82446, -400.45578, -407.5035, -408.9529...     7   \n",
       "8728  [[-451.81265, -451.41983, -450.67892, -445.635...     7   \n",
       "8729  [[-301.06348, -298.25397, -305.0326, -303.8614...     7   \n",
       "8730  [[-373.6307, -369.44986, -366.48, -364.9094, -...     7   \n",
       "8731  [[-309.34647, -305.3132, -308.23593, -308.1856...     7   \n",
       "\n",
       "           class_label  \n",
       "0             dog_bark  \n",
       "1     children_playing  \n",
       "2     children_playing  \n",
       "3     children_playing  \n",
       "4     children_playing  \n",
       "...                ...  \n",
       "8727          car_horn  \n",
       "8728          car_horn  \n",
       "8729          car_horn  \n",
       "8730          car_horn  \n",
       "8731          car_horn  \n",
       "\n",
       "[8732 rows x 3 columns]"
      ]
     },
     "execution_count": 9,
     "metadata": {},
     "output_type": "execute_result"
    }
   ],
   "source": [
    "featuresdf"
   ]
  },
  {
   "cell_type": "code",
   "execution_count": 10,
   "metadata": {},
   "outputs": [],
   "source": [
    "featuresdf.to_pickle(\"./features.pkl\")"
   ]
  }
 ],
 "metadata": {
  "kernelspec": {
   "display_name": "Python 3",
   "language": "python",
   "name": "python3"
  },
  "language_info": {
   "codemirror_mode": {
    "name": "ipython",
    "version": 3
   },
   "file_extension": ".py",
   "mimetype": "text/x-python",
   "name": "python",
   "nbconvert_exporter": "python",
   "pygments_lexer": "ipython3",
   "version": "3.7.4"
  }
 },
 "nbformat": 4,
 "nbformat_minor": 2
}
